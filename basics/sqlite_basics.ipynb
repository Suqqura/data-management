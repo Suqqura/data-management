{
 "cells": [
  {
   "cell_type": "markdown",
   "id": "b98c0095-9ebb-4adc-b75e-81c7a4be6497",
   "metadata": {},
   "source": [
    "# # SQLite Basics"
   ]
  },
  {
   "cell_type": "markdown",
   "id": "20c5d7c6-c96c-47ec-84a0-90a12b081f16",
   "metadata": {},
   "source": [
    "## 1. Introduction"
   ]
  },
  {
   "cell_type": "markdown",
   "id": "dcfc4561-c338-4ffe-af6b-69fa98fb15da",
   "metadata": {},
   "source": [
    "In this notebook, we will explore the basics of working with SQLite, a lightweight relational database, using Python. We'll cover how to create a database, execute basic SQL commands, and interact with the database using Python's `sqlite3` module. This time, we'll focus on storing users' names, ages, and hair colors."
   ]
  },
  {
   "cell_type": "markdown",
   "id": "3a539d49-383a-49ad-94ca-4ab82389ea09",
   "metadata": {},
   "source": [
    "## 2. Importing the SQLite Library"
   ]
  },
  {
   "cell_type": "code",
   "execution_count": 43,
   "id": "187a5037-6cb8-47d5-8ad8-87b94ca982a8",
   "metadata": {},
   "outputs": [],
   "source": [
    "import sqlite3\n",
    "import pandas as pd"
   ]
  },
  {
   "cell_type": "markdown",
   "id": "82de656d-6efd-4dfc-b34d-f461a2175752",
   "metadata": {},
   "source": [
    "## 3. Creating a New SQLite Database"
   ]
  },
  {
   "cell_type": "code",
   "execution_count": 45,
   "id": "d56a1ec7-246b-424e-8af0-75a6cb59811c",
   "metadata": {},
   "outputs": [],
   "source": [
    "# Connecting to SQLite (creates the database if it doesn't exist)\n",
    "conn = sqlite3.connect('data/example.db')\n",
    "\n",
    "# Creating a cursor object to interact with the database\n",
    "cursor = conn.cursor()"
   ]
  },
  {
   "cell_type": "markdown",
   "id": "1cc0f18e-9301-4103-851d-f914713bb01b",
   "metadata": {},
   "source": [
    "## 4. Creating a Table"
   ]
  },
  {
   "cell_type": "code",
   "execution_count": 47,
   "id": "c8b92207-97c3-460d-951a-50bb7bdf24c3",
   "metadata": {},
   "outputs": [],
   "source": [
    "# Creating a table named 'users'\n",
    "cursor.execute('''CREATE TABLE IF NOT EXISTS users\n",
    "                  (id INTEGER PRIMARY KEY AUTOINCREMENT,\n",
    "                   name TEXT,\n",
    "                   age INTEGER,\n",
    "                   haircolor TEXT)''')\n",
    "\n",
    "# Commit the changes\n",
    "conn.commit()"
   ]
  },
  {
   "cell_type": "markdown",
   "id": "df84d1e5-4f78-4a11-a6c7-26d32ee2ad50",
   "metadata": {},
   "source": [
    "## 5. Inserting Data into the Table"
   ]
  },
  {
   "cell_type": "code",
   "execution_count": 49,
   "id": "0d58bdc6-e3ec-4106-bd87-b410f2948a4e",
   "metadata": {},
   "outputs": [],
   "source": [
    "# Inserting a single record into the 'users' table\n",
    "cursor.execute(\"INSERT INTO users (name, age, haircolor) VALUES ('Alice', 25, 'Blonde')\")\n",
    "\n",
    "# Inserting multiple records at once\n",
    "users = [\n",
    "    ('Heli', 20, 'Brown'),\n",
    "    ('Fifi', 25, 'Black'),\n",
    "    ('Juulia', 30, 'Gray')\n",
    "]\n",
    "\n",
    "cursor.executemany(\"INSERT INTO users (name, age, haircolor) VALUES (?, ?, ?)\", users)\n",
    "\n",
    "# Commit the changes\n",
    "conn.commit()"
   ]
  },
  {
   "cell_type": "markdown",
   "id": "eec0e22d-65d0-4dd8-971e-c00b242e03c0",
   "metadata": {},
   "source": [
    "## 6. Querying Data from the Table"
   ]
  },
  {
   "cell_type": "code",
   "execution_count": 51,
   "id": "3a9b8cc5-a879-41a0-ab9b-b1e2b38d1378",
   "metadata": {},
   "outputs": [
    {
     "name": "stdout",
     "output_type": "stream",
     "text": [
      "(1, 'Alice', 26, 'Blonde')\n",
      "(2, 'Bob', 30, 'Brown')\n",
      "(3, 'Charlie', 35, 'Black')\n",
      "(5, 'Alice', 25, 'Blonde')\n",
      "(6, 'Heli', 20, 'Brown')\n",
      "(7, 'Fifi', 25, 'Black')\n",
      "(8, 'Juulia', 30, 'Gray')\n"
     ]
    }
   ],
   "source": [
    "# Querying all records from the 'users' table\n",
    "cursor.execute(\"SELECT * FROM users\")\n",
    "\n",
    "# Fetching all results\n",
    "rows = cursor.fetchall()\n",
    "\n",
    "# Displaying the results\n",
    "for row in rows:\n",
    "    print(row)"
   ]
  },
  {
   "cell_type": "markdown",
   "id": "1e8aadb1-b060-4099-88cf-dc63972b5d68",
   "metadata": {},
   "source": [
    "## 7. Updating Records"
   ]
  },
  {
   "cell_type": "code",
   "execution_count": 53,
   "id": "abaa00ff-21ee-43d5-bd34-29b0bbc8cf2a",
   "metadata": {},
   "outputs": [],
   "source": [
    "# Updating a user's information\n",
    "cursor.execute(\"UPDATE users SET age = 26 WHERE name = 'Alice'\")\n",
    "\n",
    "# Commit the changes\n",
    "conn.commit()"
   ]
  },
  {
   "cell_type": "markdown",
   "id": "2545f4ca-377b-4d6c-b442-40d867e4f17e",
   "metadata": {},
   "source": [
    "## 8. Deleting Records"
   ]
  },
  {
   "cell_type": "code",
   "execution_count": 55,
   "id": "7a344e0b-8081-4abd-b008-ac6f6fc378ed",
   "metadata": {},
   "outputs": [],
   "source": [
    "# Deleting a user from the table\n",
    "cursor.execute(\"DELETE FROM users WHERE name = 'David'\")\n",
    "\n",
    "# Commit the changes\n",
    "conn.commit()"
   ]
  },
  {
   "cell_type": "markdown",
   "id": "93934844-ad49-4945-a0ae-e42916096be2",
   "metadata": {},
   "source": [
    "## 9. Using SQL with Pandas"
   ]
  },
  {
   "cell_type": "code",
   "execution_count": 57,
   "id": "7e3cf109-f876-482b-90d5-b87f516d82c3",
   "metadata": {},
   "outputs": [
    {
     "data": {
      "text/html": [
       "<div>\n",
       "<style scoped>\n",
       "    .dataframe tbody tr th:only-of-type {\n",
       "        vertical-align: middle;\n",
       "    }\n",
       "\n",
       "    .dataframe tbody tr th {\n",
       "        vertical-align: top;\n",
       "    }\n",
       "\n",
       "    .dataframe thead th {\n",
       "        text-align: right;\n",
       "    }\n",
       "</style>\n",
       "<table border=\"1\" class=\"dataframe\">\n",
       "  <thead>\n",
       "    <tr style=\"text-align: right;\">\n",
       "      <th></th>\n",
       "      <th>id</th>\n",
       "      <th>name</th>\n",
       "      <th>age</th>\n",
       "      <th>haircolor</th>\n",
       "    </tr>\n",
       "  </thead>\n",
       "  <tbody>\n",
       "    <tr>\n",
       "      <th>0</th>\n",
       "      <td>1</td>\n",
       "      <td>Alice</td>\n",
       "      <td>26</td>\n",
       "      <td>Blonde</td>\n",
       "    </tr>\n",
       "    <tr>\n",
       "      <th>1</th>\n",
       "      <td>2</td>\n",
       "      <td>Bob</td>\n",
       "      <td>30</td>\n",
       "      <td>Brown</td>\n",
       "    </tr>\n",
       "    <tr>\n",
       "      <th>2</th>\n",
       "      <td>3</td>\n",
       "      <td>Charlie</td>\n",
       "      <td>35</td>\n",
       "      <td>Black</td>\n",
       "    </tr>\n",
       "    <tr>\n",
       "      <th>3</th>\n",
       "      <td>5</td>\n",
       "      <td>Alice</td>\n",
       "      <td>26</td>\n",
       "      <td>Blonde</td>\n",
       "    </tr>\n",
       "    <tr>\n",
       "      <th>4</th>\n",
       "      <td>6</td>\n",
       "      <td>Heli</td>\n",
       "      <td>20</td>\n",
       "      <td>Brown</td>\n",
       "    </tr>\n",
       "  </tbody>\n",
       "</table>\n",
       "</div>"
      ],
      "text/plain": [
       "   id     name  age haircolor\n",
       "0   1    Alice   26    Blonde\n",
       "1   2      Bob   30     Brown\n",
       "2   3  Charlie   35     Black\n",
       "3   5    Alice   26    Blonde\n",
       "4   6     Heli   20     Brown"
      ]
     },
     "execution_count": 57,
     "metadata": {},
     "output_type": "execute_result"
    }
   ],
   "source": [
    "# Reading from the database into a Pandas DataFrame\n",
    "df = pd.read_sql_query(\"SELECT * FROM users\", conn)\n",
    "\n",
    "# Displaying the DataFrame\n",
    "df.head()"
   ]
  },
  {
   "cell_type": "markdown",
   "id": "7050baf8-2957-4f81-9ebc-493d18a2e80a",
   "metadata": {},
   "source": [
    "## 10. Closing the Connection"
   ]
  },
  {
   "cell_type": "code",
   "execution_count": 59,
   "id": "d93f429b-a637-40fb-9fda-d07e48ec1b3e",
   "metadata": {},
   "outputs": [],
   "source": [
    "# Closing the connection to the database\n",
    "conn.close()"
   ]
  },
  {
   "cell_type": "markdown",
   "id": "43e08e01-559e-45e0-819c-efcb6c4ea68a",
   "metadata": {},
   "source": [
    "## 11. Conclusion"
   ]
  },
  {
   "cell_type": "markdown",
   "id": "1e471cb6-afd4-4818-93a7-144a8f5cbea6",
   "metadata": {},
   "source": [
    "In this notebook, we covered the basics of working with SQLite using Python. We learned how to create a database, create tables, insert and query data, and even use SQL queries within a Pandas DataFrame. Instead of email, we used a `haircolor` attribute to manage users' data. SQLite is a powerful tool for small-scale database management, and this notebook provides a solid foundation for further exploration."
   ]
  },
  {
   "cell_type": "code",
   "execution_count": null,
   "id": "d4004c88-3d28-4cd7-bf33-13abdab6bdf6",
   "metadata": {},
   "outputs": [],
   "source": []
  }
 ],
 "metadata": {
  "kernelspec": {
   "display_name": "Python 3 (ipykernel)",
   "language": "python",
   "name": "python3"
  },
  "language_info": {
   "codemirror_mode": {
    "name": "ipython",
    "version": 3
   },
   "file_extension": ".py",
   "mimetype": "text/x-python",
   "name": "python",
   "nbconvert_exporter": "python",
   "pygments_lexer": "ipython3",
   "version": "3.11.5"
  }
 },
 "nbformat": 4,
 "nbformat_minor": 5
}
