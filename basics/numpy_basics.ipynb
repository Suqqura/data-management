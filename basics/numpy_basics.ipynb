{
 "cells": [
  {
   "cell_type": "markdown",
   "metadata": {},
   "source": [
    "# Numpy Basics"
   ]
  },
  {
   "cell_type": "markdown",
   "metadata": {},
   "source": [
    "\n",
    "\n",
    "1. Numpy array\n",
    "    - 1-dimensional array\n",
    "    - Multidimensional array\n",
    "    - Convert Python list to Numpy array\n",
    "2. Slicing arrays\n",
    "    - 1D array\n",
    "    - 2D array\n",
    "3. Numpy functions\n",
    "    - Statistical functions\n",
    "    - Transpose\n",
    "    - Indexes of numpy array\n",
    "    - Stacking arrays\n",
    "    - Concatenate arrays\n",
    "    - Copy and View\n",
    "    - Universal functions"
   ]
  },
  {
   "cell_type": "markdown",
   "metadata": {},
   "source": [
    "import numpy"
   ]
  },
  {
   "cell_type": "code",
   "execution_count": 16,
   "metadata": {},
   "outputs": [],
   "source": [
    "# pip install numpy\n",
    "\n",
    "# imports\n",
    "import numpy as np"
   ]
  },
  {
   "cell_type": "markdown",
   "metadata": {},
   "source": [
    "#### 1. Numpy array"
   ]
  },
  {
   "cell_type": "markdown",
   "metadata": {},
   "source": [
    "##### 1-dimensional array"
   ]
  },
  {
   "cell_type": "code",
   "execution_count": 19,
   "metadata": {},
   "outputs": [
    {
     "name": "stdout",
     "output_type": "stream",
     "text": [
      "[1 2 3 4 5 6]\n",
      "(6,)\n"
     ]
    }
   ],
   "source": [
    "# Create 1-dimensional ndarray\n",
    "np1d = np.array([1,2,3,4,5,6])\n",
    "print(np1d)\n",
    "\n",
    "# check shape of the array\n",
    "print(np1d.shape)"
   ]
  },
  {
   "cell_type": "code",
   "execution_count": 20,
   "metadata": {},
   "outputs": [
    {
     "name": "stdout",
     "output_type": "stream",
     "text": [
      "arange(6)\n",
      " [0 1 2 3 4 5]\n",
      "\n",
      "arange(0, 60, 6)\n",
      " [ 0  6 12 18 24 30 36 42 48 54]\n"
     ]
    }
   ],
   "source": [
    "# 'arange' can be used to create array\n",
    "np1d = np.arange(6)\n",
    "print('arange(6)\\n', np1d)\n",
    "\n",
    "# 'arange' contain 3 parameters: start value, end value, step)\n",
    "np1d = np.arange(0, 60, 6)\n",
    "print('\\narange(0, 60, 6)\\n', np1d)"
   ]
  },
  {
   "cell_type": "code",
   "execution_count": 21,
   "metadata": {},
   "outputs": [
    {
     "data": {
      "text/plain": [
       "array([1. , 1.5, 2. , 2.5, 3. , 3.5, 4. , 4.5, 5. , 5.5, 6. ])"
      ]
     },
     "execution_count": 21,
     "metadata": {},
     "output_type": "execute_result"
    }
   ],
   "source": [
    "# 'linspace' contain 3 parameters: start, end, number of elements\n",
    "np1d = np.linspace(1, 6, 11)\n",
    "np1d"
   ]
  },
  {
   "cell_type": "code",
   "execution_count": 22,
   "metadata": {},
   "outputs": [
    {
     "data": {
      "text/plain": [
       "array([0., 0., 0., 0., 0., 0.])"
      ]
     },
     "execution_count": 22,
     "metadata": {},
     "output_type": "execute_result"
    }
   ],
   "source": [
    "# Create arrays with value 0\n",
    "np1d = np.zeros(6)\n",
    "np1d"
   ]
  },
  {
   "cell_type": "markdown",
   "metadata": {},
   "source": [
    "##### Multidimensional array"
   ]
  },
  {
   "cell_type": "code",
   "execution_count": 24,
   "metadata": {},
   "outputs": [
    {
     "data": {
      "text/plain": [
       "array([[1, 2, 3],\n",
       "       [4, 5, 6]])"
      ]
     },
     "execution_count": 24,
     "metadata": {},
     "output_type": "execute_result"
    }
   ],
   "source": [
    "# 2-dimensional array\n",
    "np2d = np.array([[1,2,3],[4,5,6]])\n",
    "np2d"
   ]
  },
  {
   "cell_type": "code",
   "execution_count": 25,
   "metadata": {},
   "outputs": [
    {
     "data": {
      "text/plain": [
       "array([[0., 0., 0., 0., 0.],\n",
       "       [0., 0., 0., 0., 0.],\n",
       "       [0., 0., 0., 0., 0.]])"
      ]
     },
     "execution_count": 25,
     "metadata": {},
     "output_type": "execute_result"
    }
   ],
   "source": [
    "# 2-dimensional, all zeroes\n",
    "np2d = np.zeros((3, 5))\n",
    "np2d"
   ]
  },
  {
   "cell_type": "code",
   "execution_count": 26,
   "metadata": {},
   "outputs": [
    {
     "data": {
      "text/plain": [
       "array([[1., 0., 0., 0., 0.],\n",
       "       [0., 1., 0., 0., 0.],\n",
       "       [0., 0., 1., 0., 0.]])"
      ]
     },
     "execution_count": 26,
     "metadata": {},
     "output_type": "execute_result"
    }
   ],
   "source": [
    "# 'eye' defines a 2D identity matrix\n",
    "np3d = np.eye(3, 5)\n",
    "np3d"
   ]
  },
  {
   "cell_type": "code",
   "execution_count": 27,
   "metadata": {},
   "outputs": [
    {
     "data": {
      "text/plain": [
       "array([[[1, 2],\n",
       "        [3, 4]],\n",
       "\n",
       "       [[5, 6],\n",
       "        [7, 8]]])"
      ]
     },
     "execution_count": 27,
     "metadata": {},
     "output_type": "execute_result"
    }
   ],
   "source": [
    "# 3-dimensional array\n",
    "np3d = np.array([[[1, 2], [3, 4]], [[5, 6], [7, 8]]])\n",
    "np3d"
   ]
  },
  {
   "cell_type": "code",
   "execution_count": 28,
   "metadata": {},
   "outputs": [
    {
     "data": {
      "text/plain": [
       "array([[1., 1., 1.],\n",
       "       [1., 1., 1.]])"
      ]
     },
     "execution_count": 28,
     "metadata": {},
     "output_type": "execute_result"
    }
   ],
   "source": [
    "# 'ones' n, m\n",
    "np3d = np.ones((2, 3))\n",
    "np3d"
   ]
  },
  {
   "cell_type": "markdown",
   "metadata": {},
   "source": [
    "##### Convert Python list to Numpy array"
   ]
  },
  {
   "cell_type": "code",
   "execution_count": 30,
   "metadata": {},
   "outputs": [
    {
     "data": {
      "text/plain": [
       "[1, 2, 3, 4, 5, 6]"
      ]
     },
     "execution_count": 30,
     "metadata": {},
     "output_type": "execute_result"
    }
   ],
   "source": [
    "# Create list with Python\n",
    "list1 = [1,2,3,4,5,6]\n",
    "list1"
   ]
  },
  {
   "cell_type": "code",
   "execution_count": 31,
   "metadata": {},
   "outputs": [
    {
     "data": {
      "text/plain": [
       "1"
      ]
     },
     "execution_count": 31,
     "metadata": {},
     "output_type": "execute_result"
    }
   ],
   "source": [
    "# 1st item in the list\n",
    "list1[0]"
   ]
  },
  {
   "cell_type": "code",
   "execution_count": 32,
   "metadata": {},
   "outputs": [
    {
     "name": "stdout",
     "output_type": "stream",
     "text": [
      "Python list: [1, 2, 3, 4, 5, 6]\n",
      "Numpy array: [1 2 3 4 5 6]\n"
     ]
    }
   ],
   "source": [
    "# covert previously created list1\n",
    "print('Python list:', list1)\n",
    "np1 = np.array(list1)\n",
    "print('Numpy array:', np1)"
   ]
  },
  {
   "cell_type": "code",
   "execution_count": 33,
   "metadata": {},
   "outputs": [
    {
     "name": "stdout",
     "output_type": "stream",
     "text": [
      "Numpy array, 1st: 1\n",
      "Numpy array, last: 6\n"
     ]
    }
   ],
   "source": [
    "# print element in numpy array\n",
    "print('Numpy array, 1st:', np1[0])\n",
    "\n",
    "# Note the special case: index -1 points to last item \n",
    "print('Numpy array, last:', np1[-1])"
   ]
  },
  {
   "cell_type": "markdown",
   "metadata": {},
   "source": [
    "### 2. Slicing arrays"
   ]
  },
  {
   "cell_type": "markdown",
   "metadata": {},
   "source": [
    "#### 1D array"
   ]
  },
  {
   "cell_type": "code",
   "execution_count": 36,
   "metadata": {},
   "outputs": [
    {
     "name": "stdout",
     "output_type": "stream",
     "text": [
      "[ 1  2  3  4  5  6  7  8  9 10]\n",
      "np1[1:6]: [2 3 4 5 6]\n",
      "np1[5:]: [ 6  7  8  9 10]\n",
      "np1[-5:-1]: [6 7 8 9]\n"
     ]
    }
   ],
   "source": [
    "# Create 1-dimensional ndarray\n",
    "np1 = np.array([1,2,3,4,5,6,7,8,9,10])\n",
    "print(np1)\n",
    "\n",
    "# print slice\n",
    "print('np1[1:6]:', np1[1:6])\n",
    "\n",
    "# print all values starting from specific location\n",
    "print('np1[5:]:', np1[5:])\n",
    "\n",
    "# print negative slices\n",
    "print('np1[-5:-1]:', np1[-5:-1])"
   ]
  },
  {
   "cell_type": "code",
   "execution_count": 37,
   "metadata": {},
   "outputs": [
    {
     "name": "stdout",
     "output_type": "stream",
     "text": [
      "[2 3 4 5 6]\n",
      "[2 4 6]\n",
      "[1 3 5 7 9]\n"
     ]
    }
   ],
   "source": [
    "# slices in steps\n",
    "print(np1[1:6])\n",
    "print(np1[1:6:2]) # some data in steps of 2\n",
    "print(np1[::2]) # all data in steps of 2"
   ]
  },
  {
   "cell_type": "markdown",
   "metadata": {},
   "source": [
    "#### 2D array"
   ]
  },
  {
   "cell_type": "code",
   "execution_count": 39,
   "metadata": {},
   "outputs": [
    {
     "data": {
      "text/plain": [
       "array([[ 1,  2,  3,  4,  5],\n",
       "       [ 6,  7,  8,  9, 10]])"
      ]
     },
     "execution_count": 39,
     "metadata": {},
     "output_type": "execute_result"
    }
   ],
   "source": [
    "np2 = np.array([[1,2,3,4,5],[6,7,8,9,10]])\n",
    "np2"
   ]
  },
  {
   "cell_type": "code",
   "execution_count": 40,
   "metadata": {},
   "outputs": [
    {
     "name": "stdout",
     "output_type": "stream",
     "text": [
      "1\n",
      "10\n"
     ]
    }
   ],
   "source": [
    "# print based on index in the array\n",
    "#fist\n",
    "print(np2[0,0])\n",
    "\n",
    "#last\n",
    "print(np2[-1,-1])\n"
   ]
  },
  {
   "cell_type": "code",
   "execution_count": 41,
   "metadata": {},
   "outputs": [
    {
     "name": "stdout",
     "output_type": "stream",
     "text": [
      "[[2 3 4]]\n",
      "[1 2 3 4 5]\n",
      "[1 2 3 4 5]\n",
      "[ 5 10]\n"
     ]
    }
   ],
   "source": [
    "# slice 2D array\n",
    "\n",
    "# show in first row values in columns with indexes 1 - 3\n",
    "print(np2[0:1,1:4])\n",
    "\n",
    "# show data in row with index 1\n",
    "# show the first row in the array\n",
    "print(np2[0,:])\n",
    "\n",
    "# Note that if all columns also option to print this way\n",
    "print(np2[0,])\n",
    "\n",
    "# show the last column in the array\n",
    "print(np2[:,-1])"
   ]
  },
  {
   "cell_type": "code",
   "execution_count": 42,
   "metadata": {},
   "outputs": [
    {
     "data": {
      "text/plain": [
       "array([ 5, 10])"
      ]
     },
     "execution_count": 42,
     "metadata": {},
     "output_type": "execute_result"
    }
   ],
   "source": [
    "# show the previous result as array\n",
    "a = np2[:, -1]\n",
    "a"
   ]
  },
  {
   "cell_type": "markdown",
   "metadata": {},
   "source": [
    "### 3. Numpy functions\n"
   ]
  },
  {
   "cell_type": "markdown",
   "metadata": {},
   "source": [
    "#### Statistical functions\n"
   ]
  },
  {
   "cell_type": "code",
   "execution_count": 45,
   "metadata": {},
   "outputs": [
    {
     "name": "stdout",
     "output_type": "stream",
     "text": [
      "[ 1  2  3  4  5  6  7  8  9 10]\n",
      "mean: 5.5\n",
      "standard deviation: 2.8722813232690143\n",
      "median: 5.5\n"
     ]
    }
   ],
   "source": [
    "# array\n",
    "print(np1)\n",
    "\n",
    "# print mean\n",
    "print('mean:', np.mean(np1))\n",
    "\n",
    "# print standard deviation, std\n",
    "print('standard deviation:', np.std(np1))\n",
    "\n",
    "# print median\n",
    "print('median:', np.median(np1))"
   ]
  },
  {
   "cell_type": "markdown",
   "metadata": {},
   "source": [
    "#### Transpose"
   ]
  },
  {
   "cell_type": "code",
   "execution_count": 47,
   "metadata": {},
   "outputs": [
    {
     "name": "stdout",
     "output_type": "stream",
     "text": [
      "np2: \n",
      " [[ 1  2  3  4  5]\n",
      " [ 6  7  8  9 10]]\n"
     ]
    }
   ],
   "source": [
    "# before transpose np2\n",
    "print('np2: \\n', np2)"
   ]
  },
  {
   "cell_type": "code",
   "execution_count": 48,
   "metadata": {},
   "outputs": [
    {
     "name": "stdout",
     "output_type": "stream",
     "text": [
      "Transposed np2: \n",
      " [[ 1  6]\n",
      " [ 2  7]\n",
      " [ 3  8]\n",
      " [ 4  9]\n",
      " [ 5 10]]\n"
     ]
    }
   ],
   "source": [
    "# transpose np2\n",
    "np2t = np.transpose(np2)\n",
    "print('Transposed np2: \\n',  np2t)"
   ]
  },
  {
   "cell_type": "markdown",
   "metadata": {},
   "source": [
    "#### Indexes of numpy array"
   ]
  },
  {
   "cell_type": "code",
   "execution_count": 50,
   "metadata": {},
   "outputs": [
    {
     "name": "stdout",
     "output_type": "stream",
     "text": [
      "np3: \n",
      " [0.76471044 0.43003775 0.34583297 0.87824215 0.30058113 0.04915601\n",
      " 0.46858873 0.61519589 0.43568196 0.6441515 ]\n"
     ]
    }
   ],
   "source": [
    "# Create 1-dimensional Numpy arrays with random values.\n",
    "np3 = np.random.rand(10)\n",
    "print ('np3: \\n', np3)"
   ]
  },
  {
   "cell_type": "code",
   "execution_count": 51,
   "metadata": {},
   "outputs": [
    {
     "name": "stdout",
     "output_type": "stream",
     "text": [
      "Index of smallest value is 5 with value: 0.04915601450030138\n",
      "Index of largest value is 3 with value: 0.8782421481511996\n"
     ]
    }
   ],
   "source": [
    "# find smallest and largest\n",
    "np3min = np.argmin(np3)\n",
    "np3max = np.argmax(np3)\n",
    "print ('Index of smallest value is', np3min, 'with value:', np3[np3min])\n",
    "print ('Index of largest value is', np3max, 'with value:', np3[np3max])"
   ]
  },
  {
   "cell_type": "markdown",
   "metadata": {},
   "source": [
    "#### Stacking arrays"
   ]
  },
  {
   "cell_type": "code",
   "execution_count": 53,
   "metadata": {},
   "outputs": [
    {
     "name": "stdout",
     "output_type": "stream",
     "text": [
      "np4: [1 2 3 4]\n",
      "np5: [5 6 7 8]\n"
     ]
    }
   ],
   "source": [
    "# Create 2-dimensional Numpy arrays\n",
    "np4 = np.array([1,2,3,4])\n",
    "np5 = np.array([5,6,7,8])\n",
    "print('np4:', np4)\n",
    "print('np5:', np5)"
   ]
  },
  {
   "cell_type": "code",
   "execution_count": 54,
   "metadata": {},
   "outputs": [
    {
     "name": "stdout",
     "output_type": "stream",
     "text": [
      "np4 and np5 stacked: \n",
      " [[1 2 3 4]\n",
      " [5 6 7 8]]\n"
     ]
    }
   ],
   "source": [
    "# stack the arrays\n",
    "np4_5 = np.stack((np4, np5))\n",
    "print ('np4 and np5 stacked: \\n', np4_5)"
   ]
  },
  {
   "cell_type": "code",
   "execution_count": 55,
   "metadata": {},
   "outputs": [
    {
     "name": "stdout",
     "output_type": "stream",
     "text": [
      "np4 and np5 stacked horizontally: \n",
      " [1 2 3 4 5 6 7 8]\n",
      "\n",
      "np4 and np5 stacked vertically: \n",
      " [[1 2 3 4]\n",
      " [5 6 7 8]]\n"
     ]
    }
   ],
   "source": [
    "# stack the arrays horizontally\n",
    "np4_5h = np.hstack((np4, np5))\n",
    "print ('np4 and np5 stacked horizontally: \\n', np4_5h)\n",
    "\n",
    "# Stack vertically same as stack\n",
    "np4_5v = np.vstack((np4, np5))\n",
    "print ('\\nnp4 and np5 stacked vertically: \\n', np4_5v)"
   ]
  },
  {
   "cell_type": "markdown",
   "metadata": {},
   "source": [
    "#### Concatenate arrays"
   ]
  },
  {
   "cell_type": "code",
   "execution_count": 57,
   "metadata": {},
   "outputs": [
    {
     "name": "stdout",
     "output_type": "stream",
     "text": [
      "np6: \n",
      " [[0.54923657 0.9181361  0.34779538 0.59468906 0.54079941]\n",
      " [0.54528872 0.0989318  0.27224334 0.62006304 0.75111138]]\n",
      "np7: \n",
      " [[0.17767025 0.92377819 0.8533699  0.40217225 0.52779509]\n",
      " [0.95021681 0.86936803 0.62891666 0.81047093 0.60802125]]\n"
     ]
    }
   ],
   "source": [
    "# Create 2-dimensional Numpy arrays with random values.\n",
    "np6 = np.random.rand(2,5)\n",
    "print ('np6: \\n', np6)\n",
    "# Create 2-dimensional Numpy arrays with random values.\n",
    "np7 = np.random.rand(2,5)\n",
    "print ('np7: \\n', np7)"
   ]
  },
  {
   "cell_type": "code",
   "execution_count": 58,
   "metadata": {},
   "outputs": [
    {
     "name": "stdout",
     "output_type": "stream",
     "text": [
      "[[0.5492 0.9181 0.3478 0.5947 0.5408]\n",
      " [0.5453 0.0989 0.2722 0.6201 0.7511]]\n",
      "[[0.18 0.92 0.85 0.4  0.53]\n",
      " [0.95 0.87 0.63 0.81 0.61]]\n"
     ]
    }
   ],
   "source": [
    "# round\n",
    "np6 = np.round(np6, 4)\n",
    "np7 = np.round(np7, 2)\n",
    "print(np6)\n",
    "print(np7)"
   ]
  },
  {
   "cell_type": "code",
   "execution_count": 59,
   "metadata": {},
   "outputs": [
    {
     "data": {
      "text/plain": [
       "array([[0.5492, 0.9181, 0.3478, 0.5947, 0.5408],\n",
       "       [0.5453, 0.0989, 0.2722, 0.6201, 0.7511],\n",
       "       [0.18  , 0.92  , 0.85  , 0.4   , 0.53  ],\n",
       "       [0.95  , 0.87  , 0.63  , 0.81  , 0.61  ]])"
      ]
     },
     "execution_count": 59,
     "metadata": {},
     "output_type": "execute_result"
    }
   ],
   "source": [
    "np.concatenate((np6, np7), axis=0)"
   ]
  },
  {
   "cell_type": "code",
   "execution_count": 60,
   "metadata": {},
   "outputs": [
    {
     "data": {
      "text/plain": [
       "array([[0.5492, 0.9181, 0.3478, 0.5947, 0.5408, 0.18  , 0.92  , 0.85  ,\n",
       "        0.4   , 0.53  ],\n",
       "       [0.5453, 0.0989, 0.2722, 0.6201, 0.7511, 0.95  , 0.87  , 0.63  ,\n",
       "        0.81  , 0.61  ]])"
      ]
     },
     "execution_count": 60,
     "metadata": {},
     "output_type": "execute_result"
    }
   ],
   "source": [
    "np.concatenate((np6, np7), axis=1)"
   ]
  },
  {
   "cell_type": "markdown",
   "metadata": {},
   "source": [
    "#### Copy and View"
   ]
  },
  {
   "cell_type": "code",
   "execution_count": 62,
   "metadata": {},
   "outputs": [
    {
     "name": "stdout",
     "output_type": "stream",
     "text": [
      "[ 0  5 10 15 20 25 30 35 40 45 50 55 60 65 70 75 80 85 90 95]\n"
     ]
    }
   ],
   "source": [
    "# create array with 'arange'\n",
    "np8 = np.arange(0, 100, 5)\n",
    "print(np8)"
   ]
  },
  {
   "cell_type": "code",
   "execution_count": 63,
   "metadata": {},
   "outputs": [
    {
     "data": {
      "text/plain": [
       "array([ 0,  5, 10, 15, 20, 25, 30, 35, 40, 45, 50, 55, 60, 65, 70, 75, 80,\n",
       "       85, 90, 95])"
      ]
     },
     "execution_count": 63,
     "metadata": {},
     "output_type": "execute_result"
    }
   ],
   "source": [
    "# make a copy\n",
    "np9 = np8.copy()\n",
    "np9"
   ]
  },
  {
   "cell_type": "code",
   "execution_count": 64,
   "metadata": {},
   "outputs": [
    {
     "data": {
      "text/plain": [
       "array([ 0,  5, 10, 15, 20, 25, 30, 35, 40, 45, 50, 55, 60, 65, 70, 75, 80,\n",
       "       85, 90, 95])"
      ]
     },
     "execution_count": 64,
     "metadata": {},
     "output_type": "execute_result"
    }
   ],
   "source": [
    "# use view instead\n",
    "np10 = np8.view()\n",
    "np10"
   ]
  },
  {
   "cell_type": "code",
   "execution_count": 65,
   "metadata": {},
   "outputs": [
    {
     "data": {
      "text/plain": [
       "array([100,   5,  10,  15,  20,  25,  30,  35,  40,  45,  50,  55,  60,\n",
       "        65,  70,  75,  80,  85,  90,  95])"
      ]
     },
     "execution_count": 65,
     "metadata": {},
     "output_type": "execute_result"
    }
   ],
   "source": [
    "# change value in original array (np8)\n",
    "np8[0] = 100\n",
    "np8"
   ]
  },
  {
   "cell_type": "code",
   "execution_count": 66,
   "metadata": {
    "scrolled": true
   },
   "outputs": [
    {
     "name": "stdout",
     "output_type": "stream",
     "text": [
      "copy of np8:  [ 0  5 10 15 20 25 30 35 40 45 50 55 60 65 70 75 80 85 90 95]\n",
      "view of np8:  [100   5  10  15  20  25  30  35  40  45  50  55  60  65  70  75  80  85\n",
      "  90  95]\n"
     ]
    }
   ],
   "source": [
    "# check values in the copy and view\n",
    "print ('copy of np8: ', np9)\n",
    "print ('view of np8: ', np10)"
   ]
  },
  {
   "cell_type": "markdown",
   "metadata": {},
   "source": [
    "#### Universal functions"
   ]
  },
  {
   "cell_type": "code",
   "execution_count": 68,
   "metadata": {},
   "outputs": [
    {
     "name": "stdout",
     "output_type": "stream",
     "text": [
      "[ 1  2  3  4  5  6  7  8  9 10]\n",
      "[1.         1.41421356 1.73205081 2.         2.23606798 2.44948974\n",
      " 2.64575131 2.82842712 3.         3.16227766]\n"
     ]
    }
   ],
   "source": [
    "# square root\n",
    "print(np1)\n",
    "print(np.sqrt(np1))"
   ]
  },
  {
   "cell_type": "code",
   "execution_count": 69,
   "metadata": {},
   "outputs": [
    {
     "name": "stdout",
     "output_type": "stream",
     "text": [
      "[5 3 2 0 2 5 7 9]\n"
     ]
    }
   ],
   "source": [
    "# Absolute values  \n",
    "np3 = np.array([-5,-3, -2, 0, 2, 5,7,9])\n",
    "print(np.absolute(np3))"
   ]
  },
  {
   "cell_type": "code",
   "execution_count": 70,
   "metadata": {},
   "outputs": [
    {
     "name": "stdout",
     "output_type": "stream",
     "text": [
      "[6.73794700e-03 4.97870684e-02 1.35335283e-01 1.00000000e+00\n",
      " 7.38905610e+00 1.48413159e+02 1.09663316e+03 8.10308393e+03]\n"
     ]
    }
   ],
   "source": [
    "# Exponent\n",
    "print(np.exp(np3))"
   ]
  },
  {
   "cell_type": "code",
   "execution_count": 71,
   "metadata": {},
   "outputs": [
    {
     "name": "stdout",
     "output_type": "stream",
     "text": [
      "min: -5\n",
      "max: 9\n"
     ]
    }
   ],
   "source": [
    "# min & max\n",
    "print('min:', np.min(np3))\n",
    "print('max:', np.max(np3))"
   ]
  },
  {
   "cell_type": "markdown",
   "metadata": {},
   "source": [
    "numpy basics 1    \n",
    "Henna "
   ]
  },
  {
   "cell_type": "code",
   "execution_count": null,
   "metadata": {},
   "outputs": [],
   "source": []
  }
 ],
 "metadata": {
  "kernelspec": {
   "display_name": "Python 3 (ipykernel)",
   "language": "python",
   "name": "python3"
  },
  "language_info": {
   "codemirror_mode": {
    "name": "ipython",
    "version": 3
   },
   "file_extension": ".py",
   "mimetype": "text/x-python",
   "name": "python",
   "nbconvert_exporter": "python",
   "pygments_lexer": "ipython3",
   "version": "3.11.5"
  }
 },
 "nbformat": 4,
 "nbformat_minor": 4
}
