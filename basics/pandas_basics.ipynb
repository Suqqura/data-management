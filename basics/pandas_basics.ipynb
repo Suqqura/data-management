{
 "cells": [
  {
   "cell_type": "markdown",
   "id": "4f9376ec",
   "metadata": {},
   "source": [
    "# pandas basics"
   ]
  },
  {
   "cell_type": "markdown",
   "id": "83911073",
   "metadata": {},
   "source": [
    "pandas basics, nothing fancy + little hedgehog data "
   ]
  },
  {
   "cell_type": "markdown",
   "id": "40e480f4",
   "metadata": {},
   "source": [
    "## 1. import pandas library"
   ]
  },
  {
   "cell_type": "code",
   "execution_count": 244,
   "id": "352c4488",
   "metadata": {},
   "outputs": [],
   "source": [
    "# pip install pandas\n",
    "\n",
    "# imports\n",
    "import pandas as pd"
   ]
  },
  {
   "cell_type": "markdown",
   "id": "deb66438",
   "metadata": {},
   "source": [
    "## 2. create simple dataframe"
   ]
  },
  {
   "cell_type": "code",
   "execution_count": 246,
   "id": "bc89a38f",
   "metadata": {},
   "outputs": [
    {
     "data": {
      "text/html": [
       "<div>\n",
       "<style scoped>\n",
       "    .dataframe tbody tr th:only-of-type {\n",
       "        vertical-align: middle;\n",
       "    }\n",
       "\n",
       "    .dataframe tbody tr th {\n",
       "        vertical-align: top;\n",
       "    }\n",
       "\n",
       "    .dataframe thead th {\n",
       "        text-align: right;\n",
       "    }\n",
       "</style>\n",
       "<table border=\"1\" class=\"dataframe\">\n",
       "  <thead>\n",
       "    <tr style=\"text-align: right;\">\n",
       "      <th></th>\n",
       "      <th>name</th>\n",
       "      <th>age</th>\n",
       "      <th>spikes</th>\n",
       "      <th>color</th>\n",
       "      <th>weight</th>\n",
       "      <th>friendly</th>\n",
       "    </tr>\n",
       "  </thead>\n",
       "  <tbody>\n",
       "    <tr>\n",
       "      <th>0</th>\n",
       "      <td>Peanut</td>\n",
       "      <td>1</td>\n",
       "      <td>3000</td>\n",
       "      <td>Brown</td>\n",
       "      <td>350</td>\n",
       "      <td>True</td>\n",
       "    </tr>\n",
       "    <tr>\n",
       "      <th>1</th>\n",
       "      <td>Brownie</td>\n",
       "      <td>4</td>\n",
       "      <td>3500</td>\n",
       "      <td>Brown</td>\n",
       "      <td>420</td>\n",
       "      <td>True</td>\n",
       "    </tr>\n",
       "    <tr>\n",
       "      <th>2</th>\n",
       "      <td>Tofu</td>\n",
       "      <td>8</td>\n",
       "      <td>4000</td>\n",
       "      <td>Albino</td>\n",
       "      <td>390</td>\n",
       "      <td>False</td>\n",
       "    </tr>\n",
       "    <tr>\n",
       "      <th>3</th>\n",
       "      <td>Fifi</td>\n",
       "      <td>10</td>\n",
       "      <td>6000</td>\n",
       "      <td>Black-White</td>\n",
       "      <td>360</td>\n",
       "      <td>True</td>\n",
       "    </tr>\n",
       "    <tr>\n",
       "      <th>4</th>\n",
       "      <td>Spike</td>\n",
       "      <td>2</td>\n",
       "      <td>3000</td>\n",
       "      <td>Grey</td>\n",
       "      <td>410</td>\n",
       "      <td>True</td>\n",
       "    </tr>\n",
       "  </tbody>\n",
       "</table>\n",
       "</div>"
      ],
      "text/plain": [
       "      name  age  spikes        color  weight  friendly\n",
       "0   Peanut    1    3000        Brown     350      True\n",
       "1  Brownie    4    3500        Brown     420      True\n",
       "2     Tofu    8    4000       Albino     390     False\n",
       "3     Fifi   10    6000  Black-White     360      True\n",
       "4    Spike    2    3000         Grey     410      True"
      ]
     },
     "execution_count": 246,
     "metadata": {},
     "output_type": "execute_result"
    }
   ],
   "source": [
    "# create simple dataframe about hedgehogs\n",
    "data = {\n",
    "    'name': ['Peanut', 'Brownie', 'Tofu', 'Fifi', 'Spike'],\n",
    "    'age': [1, 4, 8, 10, 2],\n",
    "    'spikes': [3000, 3500, 4000, 6000, 3000],\n",
    "    'color': ['Brown', 'Brown', 'Albino', 'Black-White', 'Grey'],\n",
    "    'weight': [350, 420, 390, 360, 410],\n",
    "    'friendly': [True, True, False, True, True]\n",
    "}\n",
    "df = pd.DataFrame(data)\n",
    "df"
   ]
  },
  {
   "cell_type": "markdown",
   "id": "5a56ab48",
   "metadata": {},
   "source": [
    "## 3. save data"
   ]
  },
  {
   "cell_type": "code",
   "execution_count": 248,
   "id": "c286caa0",
   "metadata": {},
   "outputs": [
    {
     "name": "stdout",
     "output_type": "stream",
     "text": [
      "dataframe saved in 3 ways\n"
     ]
    }
   ],
   "source": [
    "# save data to csv\n",
    "df.to_csv('data/hedgehogs.csv', index=False)\n",
    "\n",
    "# save data to excel\n",
    "df.to_excel('data/hedgehogs.xlsx', index=False)\n",
    "\n",
    "# save data to JSON\n",
    "df.to_json('data/hedgehogs.json', orient='records')\n",
    "\n",
    "print('dataframe saved in 3 ways')"
   ]
  },
  {
   "cell_type": "markdown",
   "id": "c73b832e-e46d-4fa3-8125-f14382aa827a",
   "metadata": {},
   "source": [
    "## 4. read data"
   ]
  },
  {
   "cell_type": "code",
   "execution_count": 250,
   "id": "212cbfbe-4a73-449e-8623-685cf8557637",
   "metadata": {},
   "outputs": [
    {
     "name": "stdout",
     "output_type": "stream",
     "text": [
      "      name  age  spikes        color  weight  friendly\n",
      "0   Peanut    1    3000        Brown     350      True\n",
      "1  Brownie    4    3500        Brown     420      True\n",
      "2     Tofu    8    4000       Albino     390     False\n",
      "3     Fifi   10    6000  Black-White     360      True\n",
      "4    Spike    2    3000         Grey     410      True \n",
      "...and others looks the same\n"
     ]
    }
   ],
   "source": [
    "# read csv\n",
    "df_csv = pd.read_csv('data/hedgehogs.csv')\n",
    "print(df_csv, '\\n...and others looks the same')\n",
    "\n",
    "# read excel\n",
    "# df_excel = pd.read_excel('data/hedgehogs.xlsx')\n",
    "# print(df_excel)\n",
    "\n",
    "# read JSON\n",
    "# df_json = pd.read_json('data/hedgehogs.json', orient='records')\n",
    "# print(df_json)"
   ]
  },
  {
   "cell_type": "markdown",
   "id": "590f2642",
   "metadata": {},
   "source": [
    "## 4. basic information about dataframe"
   ]
  },
  {
   "cell_type": "code",
   "execution_count": 252,
   "id": "f7147b41-16de-4d2e-a714-afdeb91f1649",
   "metadata": {},
   "outputs": [
    {
     "name": "stdout",
     "output_type": "stream",
     "text": [
      "<class 'pandas.core.frame.DataFrame'>\n",
      "RangeIndex: 5 entries, 0 to 4\n",
      "Data columns (total 6 columns):\n",
      " #   Column    Non-Null Count  Dtype \n",
      "---  ------    --------------  ----- \n",
      " 0   name      5 non-null      object\n",
      " 1   age       5 non-null      int64 \n",
      " 2   spikes    5 non-null      int64 \n",
      " 3   color     5 non-null      object\n",
      " 4   weight    5 non-null      int64 \n",
      " 5   friendly  5 non-null      bool  \n",
      "dtypes: bool(1), int64(3), object(2)\n",
      "memory usage: 337.0+ bytes\n"
     ]
    }
   ],
   "source": [
    "# dataframes basic info\n",
    "df.info()"
   ]
  },
  {
   "cell_type": "code",
   "execution_count": 253,
   "id": "1d07dbae",
   "metadata": {},
   "outputs": [
    {
     "data": {
      "text/html": [
       "<div>\n",
       "<style scoped>\n",
       "    .dataframe tbody tr th:only-of-type {\n",
       "        vertical-align: middle;\n",
       "    }\n",
       "\n",
       "    .dataframe tbody tr th {\n",
       "        vertical-align: top;\n",
       "    }\n",
       "\n",
       "    .dataframe thead th {\n",
       "        text-align: right;\n",
       "    }\n",
       "</style>\n",
       "<table border=\"1\" class=\"dataframe\">\n",
       "  <thead>\n",
       "    <tr style=\"text-align: right;\">\n",
       "      <th></th>\n",
       "      <th>age</th>\n",
       "      <th>spikes</th>\n",
       "      <th>weight</th>\n",
       "    </tr>\n",
       "  </thead>\n",
       "  <tbody>\n",
       "    <tr>\n",
       "      <th>count</th>\n",
       "      <td>5.000000</td>\n",
       "      <td>5.00000</td>\n",
       "      <td>5.000000</td>\n",
       "    </tr>\n",
       "    <tr>\n",
       "      <th>mean</th>\n",
       "      <td>5.000000</td>\n",
       "      <td>3900.00000</td>\n",
       "      <td>386.000000</td>\n",
       "    </tr>\n",
       "    <tr>\n",
       "      <th>std</th>\n",
       "      <td>3.872983</td>\n",
       "      <td>1244.98996</td>\n",
       "      <td>30.495901</td>\n",
       "    </tr>\n",
       "    <tr>\n",
       "      <th>min</th>\n",
       "      <td>1.000000</td>\n",
       "      <td>3000.00000</td>\n",
       "      <td>350.000000</td>\n",
       "    </tr>\n",
       "    <tr>\n",
       "      <th>25%</th>\n",
       "      <td>2.000000</td>\n",
       "      <td>3000.00000</td>\n",
       "      <td>360.000000</td>\n",
       "    </tr>\n",
       "    <tr>\n",
       "      <th>50%</th>\n",
       "      <td>4.000000</td>\n",
       "      <td>3500.00000</td>\n",
       "      <td>390.000000</td>\n",
       "    </tr>\n",
       "    <tr>\n",
       "      <th>75%</th>\n",
       "      <td>8.000000</td>\n",
       "      <td>4000.00000</td>\n",
       "      <td>410.000000</td>\n",
       "    </tr>\n",
       "    <tr>\n",
       "      <th>max</th>\n",
       "      <td>10.000000</td>\n",
       "      <td>6000.00000</td>\n",
       "      <td>420.000000</td>\n",
       "    </tr>\n",
       "  </tbody>\n",
       "</table>\n",
       "</div>"
      ],
      "text/plain": [
       "             age      spikes      weight\n",
       "count   5.000000     5.00000    5.000000\n",
       "mean    5.000000  3900.00000  386.000000\n",
       "std     3.872983  1244.98996   30.495901\n",
       "min     1.000000  3000.00000  350.000000\n",
       "25%     2.000000  3000.00000  360.000000\n",
       "50%     4.000000  3500.00000  390.000000\n",
       "75%     8.000000  4000.00000  410.000000\n",
       "max    10.000000  6000.00000  420.000000"
      ]
     },
     "execution_count": 253,
     "metadata": {},
     "output_type": "execute_result"
    }
   ],
   "source": [
    "# dataframes basic statistics\n",
    "df.describe()"
   ]
  },
  {
   "cell_type": "code",
   "execution_count": 254,
   "id": "d44dd988-7b86-4599-8634-84fcac7f682d",
   "metadata": {},
   "outputs": [
    {
     "data": {
      "text/plain": [
       "Index(['name', 'age', 'spikes', 'color', 'weight', 'friendly'], dtype='object')"
      ]
     },
     "execution_count": 254,
     "metadata": {},
     "output_type": "execute_result"
    }
   ],
   "source": [
    "# column names\n",
    "df.columns"
   ]
  },
  {
   "cell_type": "code",
   "execution_count": 255,
   "id": "550b88d7-5560-4723-9cd6-4a534b1d3134",
   "metadata": {},
   "outputs": [
    {
     "data": {
      "text/plain": [
       "0     Peanut\n",
       "1    Brownie\n",
       "2       Tofu\n",
       "3       Fifi\n",
       "4      Spike\n",
       "Name: name, dtype: object"
      ]
     },
     "execution_count": 255,
     "metadata": {},
     "output_type": "execute_result"
    }
   ],
   "source": [
    "# spesific column\n",
    "df['name']"
   ]
  },
  {
   "cell_type": "code",
   "execution_count": 256,
   "id": "5d28ac27-4861-4e5d-873d-41475a392a98",
   "metadata": {},
   "outputs": [
    {
     "data": {
      "text/plain": [
       "name        Peanut\n",
       "age              1\n",
       "spikes        3000\n",
       "color        Brown\n",
       "weight         350\n",
       "friendly      True\n",
       "Name: 0, dtype: object"
      ]
     },
     "execution_count": 256,
     "metadata": {},
     "output_type": "execute_result"
    }
   ],
   "source": [
    "# first row\n",
    "df.iloc[0]  "
   ]
  },
  {
   "cell_type": "code",
   "execution_count": 257,
   "id": "8c0040bc-451d-4aa4-9a85-decea0eb5d82",
   "metadata": {},
   "outputs": [
    {
     "data": {
      "text/html": [
       "<div>\n",
       "<style scoped>\n",
       "    .dataframe tbody tr th:only-of-type {\n",
       "        vertical-align: middle;\n",
       "    }\n",
       "\n",
       "    .dataframe tbody tr th {\n",
       "        vertical-align: top;\n",
       "    }\n",
       "\n",
       "    .dataframe thead th {\n",
       "        text-align: right;\n",
       "    }\n",
       "</style>\n",
       "<table border=\"1\" class=\"dataframe\">\n",
       "  <thead>\n",
       "    <tr style=\"text-align: right;\">\n",
       "      <th></th>\n",
       "      <th>name</th>\n",
       "      <th>age</th>\n",
       "      <th>spikes</th>\n",
       "      <th>color</th>\n",
       "      <th>weight</th>\n",
       "      <th>friendly</th>\n",
       "    </tr>\n",
       "  </thead>\n",
       "  <tbody>\n",
       "  </tbody>\n",
       "</table>\n",
       "</div>"
      ],
      "text/plain": [
       "Empty DataFrame\n",
       "Columns: [name, age, spikes, color, weight, friendly]\n",
       "Index: []"
      ]
     },
     "execution_count": 257,
     "metadata": {},
     "output_type": "execute_result"
    }
   ],
   "source": [
    "# row with spesific data\n",
    "df[df['age'] > 10]"
   ]
  },
  {
   "cell_type": "code",
   "execution_count": 258,
   "id": "f8eb46dd-919c-4b32-9efd-c1c670439d1b",
   "metadata": {},
   "outputs": [
    {
     "data": {
      "text/plain": [
       "30"
      ]
     },
     "execution_count": 258,
     "metadata": {},
     "output_type": "execute_result"
    }
   ],
   "source": [
    "# size\n",
    "df.size"
   ]
  },
  {
   "cell_type": "code",
   "execution_count": 259,
   "id": "98284882-b3ad-456b-939f-dff46534dd26",
   "metadata": {},
   "outputs": [
    {
     "data": {
      "text/plain": [
       "(5, 6)"
      ]
     },
     "execution_count": 259,
     "metadata": {},
     "output_type": "execute_result"
    }
   ],
   "source": [
    "# shape\n",
    "df.shape"
   ]
  },
  {
   "cell_type": "markdown",
   "id": "b32eb28a",
   "metadata": {},
   "source": [
    "## 5. adding and deleting data"
   ]
  },
  {
   "cell_type": "code",
   "execution_count": 261,
   "id": "31692929",
   "metadata": {},
   "outputs": [
    {
     "data": {
      "text/html": [
       "<div>\n",
       "<style scoped>\n",
       "    .dataframe tbody tr th:only-of-type {\n",
       "        vertical-align: middle;\n",
       "    }\n",
       "\n",
       "    .dataframe tbody tr th {\n",
       "        vertical-align: top;\n",
       "    }\n",
       "\n",
       "    .dataframe thead th {\n",
       "        text-align: right;\n",
       "    }\n",
       "</style>\n",
       "<table border=\"1\" class=\"dataframe\">\n",
       "  <thead>\n",
       "    <tr style=\"text-align: right;\">\n",
       "      <th></th>\n",
       "      <th>name</th>\n",
       "      <th>age</th>\n",
       "      <th>spikes</th>\n",
       "      <th>color</th>\n",
       "      <th>weight</th>\n",
       "      <th>friendly</th>\n",
       "      <th>ears</th>\n",
       "    </tr>\n",
       "  </thead>\n",
       "  <tbody>\n",
       "    <tr>\n",
       "      <th>0</th>\n",
       "      <td>Peanut</td>\n",
       "      <td>1</td>\n",
       "      <td>3000</td>\n",
       "      <td>Brown</td>\n",
       "      <td>350</td>\n",
       "      <td>True</td>\n",
       "      <td>big</td>\n",
       "    </tr>\n",
       "    <tr>\n",
       "      <th>1</th>\n",
       "      <td>Brownie</td>\n",
       "      <td>4</td>\n",
       "      <td>3500</td>\n",
       "      <td>Brown</td>\n",
       "      <td>420</td>\n",
       "      <td>True</td>\n",
       "      <td>small</td>\n",
       "    </tr>\n",
       "    <tr>\n",
       "      <th>2</th>\n",
       "      <td>Tofu</td>\n",
       "      <td>8</td>\n",
       "      <td>4000</td>\n",
       "      <td>Albino</td>\n",
       "      <td>390</td>\n",
       "      <td>False</td>\n",
       "      <td>small</td>\n",
       "    </tr>\n",
       "    <tr>\n",
       "      <th>3</th>\n",
       "      <td>Fifi</td>\n",
       "      <td>10</td>\n",
       "      <td>6000</td>\n",
       "      <td>Black-White</td>\n",
       "      <td>360</td>\n",
       "      <td>True</td>\n",
       "      <td>big</td>\n",
       "    </tr>\n",
       "    <tr>\n",
       "      <th>4</th>\n",
       "      <td>Spike</td>\n",
       "      <td>2</td>\n",
       "      <td>3000</td>\n",
       "      <td>Grey</td>\n",
       "      <td>410</td>\n",
       "      <td>True</td>\n",
       "      <td>small</td>\n",
       "    </tr>\n",
       "  </tbody>\n",
       "</table>\n",
       "</div>"
      ],
      "text/plain": [
       "      name  age  spikes        color  weight  friendly   ears\n",
       "0   Peanut    1    3000        Brown     350      True    big\n",
       "1  Brownie    4    3500        Brown     420      True  small\n",
       "2     Tofu    8    4000       Albino     390     False  small\n",
       "3     Fifi   10    6000  Black-White     360      True    big\n",
       "4    Spike    2    3000         Grey     410      True  small"
      ]
     },
     "execution_count": 261,
     "metadata": {},
     "output_type": "execute_result"
    }
   ],
   "source": [
    "# adding a new column\n",
    "df['ears'] = ['big', 'small', 'small', 'big', 'small']\n",
    "df"
   ]
  },
  {
   "cell_type": "code",
   "execution_count": 262,
   "id": "0f5fb5b9-c763-4b11-b068-0501558cba45",
   "metadata": {},
   "outputs": [],
   "source": [
    "# new column which tells if hedgehog is old or not using true and false\n",
    "df['old'] = df['age'] >= 5"
   ]
  },
  {
   "cell_type": "code",
   "execution_count": 263,
   "id": "13886007-83de-4627-a074-c3c48e2d6515",
   "metadata": {},
   "outputs": [
    {
     "data": {
      "text/html": [
       "<div>\n",
       "<style scoped>\n",
       "    .dataframe tbody tr th:only-of-type {\n",
       "        vertical-align: middle;\n",
       "    }\n",
       "\n",
       "    .dataframe tbody tr th {\n",
       "        vertical-align: top;\n",
       "    }\n",
       "\n",
       "    .dataframe thead th {\n",
       "        text-align: right;\n",
       "    }\n",
       "</style>\n",
       "<table border=\"1\" class=\"dataframe\">\n",
       "  <thead>\n",
       "    <tr style=\"text-align: right;\">\n",
       "      <th></th>\n",
       "      <th>name</th>\n",
       "      <th>age</th>\n",
       "      <th>spikes</th>\n",
       "      <th>color</th>\n",
       "      <th>weight</th>\n",
       "      <th>friendly</th>\n",
       "      <th>old</th>\n",
       "    </tr>\n",
       "  </thead>\n",
       "  <tbody>\n",
       "    <tr>\n",
       "      <th>0</th>\n",
       "      <td>Peanut</td>\n",
       "      <td>1</td>\n",
       "      <td>3000</td>\n",
       "      <td>Brown</td>\n",
       "      <td>350</td>\n",
       "      <td>True</td>\n",
       "      <td>False</td>\n",
       "    </tr>\n",
       "    <tr>\n",
       "      <th>1</th>\n",
       "      <td>Brownie</td>\n",
       "      <td>4</td>\n",
       "      <td>3500</td>\n",
       "      <td>Brown</td>\n",
       "      <td>420</td>\n",
       "      <td>True</td>\n",
       "      <td>False</td>\n",
       "    </tr>\n",
       "    <tr>\n",
       "      <th>2</th>\n",
       "      <td>Tofu</td>\n",
       "      <td>8</td>\n",
       "      <td>4000</td>\n",
       "      <td>Albino</td>\n",
       "      <td>390</td>\n",
       "      <td>False</td>\n",
       "      <td>True</td>\n",
       "    </tr>\n",
       "    <tr>\n",
       "      <th>3</th>\n",
       "      <td>Fifi</td>\n",
       "      <td>10</td>\n",
       "      <td>6000</td>\n",
       "      <td>Black-White</td>\n",
       "      <td>360</td>\n",
       "      <td>True</td>\n",
       "      <td>True</td>\n",
       "    </tr>\n",
       "    <tr>\n",
       "      <th>4</th>\n",
       "      <td>Spike</td>\n",
       "      <td>2</td>\n",
       "      <td>3000</td>\n",
       "      <td>Grey</td>\n",
       "      <td>410</td>\n",
       "      <td>True</td>\n",
       "      <td>False</td>\n",
       "    </tr>\n",
       "  </tbody>\n",
       "</table>\n",
       "</div>"
      ],
      "text/plain": [
       "      name  age  spikes        color  weight  friendly    old\n",
       "0   Peanut    1    3000        Brown     350      True  False\n",
       "1  Brownie    4    3500        Brown     420      True  False\n",
       "2     Tofu    8    4000       Albino     390     False   True\n",
       "3     Fifi   10    6000  Black-White     360      True   True\n",
       "4    Spike    2    3000         Grey     410      True  False"
      ]
     },
     "execution_count": 263,
     "metadata": {},
     "output_type": "execute_result"
    }
   ],
   "source": [
    "# dropping/deleting the ears column\n",
    "df.drop(columns = 'ears')"
   ]
  },
  {
   "cell_type": "markdown",
   "id": "b44b31c5",
   "metadata": {},
   "source": [
    "## 6. grouping and aggregation"
   ]
  },
  {
   "cell_type": "code",
   "execution_count": 265,
   "id": "f5ef73b8",
   "metadata": {},
   "outputs": [
    {
     "data": {
      "text/html": [
       "<div>\n",
       "<style scoped>\n",
       "    .dataframe tbody tr th:only-of-type {\n",
       "        vertical-align: middle;\n",
       "    }\n",
       "\n",
       "    .dataframe tbody tr th {\n",
       "        vertical-align: top;\n",
       "    }\n",
       "\n",
       "    .dataframe thead tr th {\n",
       "        text-align: left;\n",
       "    }\n",
       "\n",
       "    .dataframe thead tr:last-of-type th {\n",
       "        text-align: right;\n",
       "    }\n",
       "</style>\n",
       "<table border=\"1\" class=\"dataframe\">\n",
       "  <thead>\n",
       "    <tr>\n",
       "      <th></th>\n",
       "      <th colspan=\"8\" halign=\"left\">age</th>\n",
       "      <th colspan=\"5\" halign=\"left\">spikes</th>\n",
       "      <th colspan=\"8\" halign=\"left\">weight</th>\n",
       "    </tr>\n",
       "    <tr>\n",
       "      <th></th>\n",
       "      <th>count</th>\n",
       "      <th>mean</th>\n",
       "      <th>std</th>\n",
       "      <th>min</th>\n",
       "      <th>25%</th>\n",
       "      <th>50%</th>\n",
       "      <th>75%</th>\n",
       "      <th>max</th>\n",
       "      <th>count</th>\n",
       "      <th>mean</th>\n",
       "      <th>...</th>\n",
       "      <th>75%</th>\n",
       "      <th>max</th>\n",
       "      <th>count</th>\n",
       "      <th>mean</th>\n",
       "      <th>std</th>\n",
       "      <th>min</th>\n",
       "      <th>25%</th>\n",
       "      <th>50%</th>\n",
       "      <th>75%</th>\n",
       "      <th>max</th>\n",
       "    </tr>\n",
       "    <tr>\n",
       "      <th>color</th>\n",
       "      <th></th>\n",
       "      <th></th>\n",
       "      <th></th>\n",
       "      <th></th>\n",
       "      <th></th>\n",
       "      <th></th>\n",
       "      <th></th>\n",
       "      <th></th>\n",
       "      <th></th>\n",
       "      <th></th>\n",
       "      <th></th>\n",
       "      <th></th>\n",
       "      <th></th>\n",
       "      <th></th>\n",
       "      <th></th>\n",
       "      <th></th>\n",
       "      <th></th>\n",
       "      <th></th>\n",
       "      <th></th>\n",
       "      <th></th>\n",
       "      <th></th>\n",
       "    </tr>\n",
       "  </thead>\n",
       "  <tbody>\n",
       "    <tr>\n",
       "      <th>Albino</th>\n",
       "      <td>1.0</td>\n",
       "      <td>8.0</td>\n",
       "      <td>NaN</td>\n",
       "      <td>8.0</td>\n",
       "      <td>8.00</td>\n",
       "      <td>8.0</td>\n",
       "      <td>8.00</td>\n",
       "      <td>8.0</td>\n",
       "      <td>1.0</td>\n",
       "      <td>4000.0</td>\n",
       "      <td>...</td>\n",
       "      <td>4000.0</td>\n",
       "      <td>4000.0</td>\n",
       "      <td>1.0</td>\n",
       "      <td>390.0</td>\n",
       "      <td>NaN</td>\n",
       "      <td>390.0</td>\n",
       "      <td>390.0</td>\n",
       "      <td>390.0</td>\n",
       "      <td>390.0</td>\n",
       "      <td>390.0</td>\n",
       "    </tr>\n",
       "    <tr>\n",
       "      <th>Black-White</th>\n",
       "      <td>1.0</td>\n",
       "      <td>10.0</td>\n",
       "      <td>NaN</td>\n",
       "      <td>10.0</td>\n",
       "      <td>10.00</td>\n",
       "      <td>10.0</td>\n",
       "      <td>10.00</td>\n",
       "      <td>10.0</td>\n",
       "      <td>1.0</td>\n",
       "      <td>6000.0</td>\n",
       "      <td>...</td>\n",
       "      <td>6000.0</td>\n",
       "      <td>6000.0</td>\n",
       "      <td>1.0</td>\n",
       "      <td>360.0</td>\n",
       "      <td>NaN</td>\n",
       "      <td>360.0</td>\n",
       "      <td>360.0</td>\n",
       "      <td>360.0</td>\n",
       "      <td>360.0</td>\n",
       "      <td>360.0</td>\n",
       "    </tr>\n",
       "    <tr>\n",
       "      <th>Brown</th>\n",
       "      <td>2.0</td>\n",
       "      <td>2.5</td>\n",
       "      <td>2.12132</td>\n",
       "      <td>1.0</td>\n",
       "      <td>1.75</td>\n",
       "      <td>2.5</td>\n",
       "      <td>3.25</td>\n",
       "      <td>4.0</td>\n",
       "      <td>2.0</td>\n",
       "      <td>3250.0</td>\n",
       "      <td>...</td>\n",
       "      <td>3375.0</td>\n",
       "      <td>3500.0</td>\n",
       "      <td>2.0</td>\n",
       "      <td>385.0</td>\n",
       "      <td>49.497475</td>\n",
       "      <td>350.0</td>\n",
       "      <td>367.5</td>\n",
       "      <td>385.0</td>\n",
       "      <td>402.5</td>\n",
       "      <td>420.0</td>\n",
       "    </tr>\n",
       "    <tr>\n",
       "      <th>Grey</th>\n",
       "      <td>1.0</td>\n",
       "      <td>2.0</td>\n",
       "      <td>NaN</td>\n",
       "      <td>2.0</td>\n",
       "      <td>2.00</td>\n",
       "      <td>2.0</td>\n",
       "      <td>2.00</td>\n",
       "      <td>2.0</td>\n",
       "      <td>1.0</td>\n",
       "      <td>3000.0</td>\n",
       "      <td>...</td>\n",
       "      <td>3000.0</td>\n",
       "      <td>3000.0</td>\n",
       "      <td>1.0</td>\n",
       "      <td>410.0</td>\n",
       "      <td>NaN</td>\n",
       "      <td>410.0</td>\n",
       "      <td>410.0</td>\n",
       "      <td>410.0</td>\n",
       "      <td>410.0</td>\n",
       "      <td>410.0</td>\n",
       "    </tr>\n",
       "  </tbody>\n",
       "</table>\n",
       "<p>4 rows × 24 columns</p>\n",
       "</div>"
      ],
      "text/plain": [
       "              age                                                spikes  \\\n",
       "            count  mean      std   min    25%   50%    75%   max  count   \n",
       "color                                                                     \n",
       "Albino        1.0   8.0      NaN   8.0   8.00   8.0   8.00   8.0    1.0   \n",
       "Black-White   1.0  10.0      NaN  10.0  10.00  10.0  10.00  10.0    1.0   \n",
       "Brown         2.0   2.5  2.12132   1.0   1.75   2.5   3.25   4.0    2.0   \n",
       "Grey          1.0   2.0      NaN   2.0   2.00   2.0   2.00   2.0    1.0   \n",
       "\n",
       "                     ...                 weight                           \\\n",
       "               mean  ...     75%     max  count   mean        std    min   \n",
       "color                ...                                                   \n",
       "Albino       4000.0  ...  4000.0  4000.0    1.0  390.0        NaN  390.0   \n",
       "Black-White  6000.0  ...  6000.0  6000.0    1.0  360.0        NaN  360.0   \n",
       "Brown        3250.0  ...  3375.0  3500.0    2.0  385.0  49.497475  350.0   \n",
       "Grey         3000.0  ...  3000.0  3000.0    1.0  410.0        NaN  410.0   \n",
       "\n",
       "                                         \n",
       "               25%    50%    75%    max  \n",
       "color                                    \n",
       "Albino       390.0  390.0  390.0  390.0  \n",
       "Black-White  360.0  360.0  360.0  360.0  \n",
       "Brown        367.5  385.0  402.5  420.0  \n",
       "Grey         410.0  410.0  410.0  410.0  \n",
       "\n",
       "[4 rows x 24 columns]"
      ]
     },
     "execution_count": 265,
     "metadata": {},
     "output_type": "execute_result"
    }
   ],
   "source": [
    "# grouping by color\n",
    "df.groupby('color').describe()"
   ]
  },
  {
   "cell_type": "code",
   "execution_count": 266,
   "id": "faea7b3d-54be-4568-a8a6-011d8f577561",
   "metadata": {},
   "outputs": [
    {
     "data": {
      "text/html": [
       "<div>\n",
       "<style scoped>\n",
       "    .dataframe tbody tr th:only-of-type {\n",
       "        vertical-align: middle;\n",
       "    }\n",
       "\n",
       "    .dataframe tbody tr th {\n",
       "        vertical-align: top;\n",
       "    }\n",
       "\n",
       "    .dataframe thead th {\n",
       "        text-align: right;\n",
       "    }\n",
       "</style>\n",
       "<table border=\"1\" class=\"dataframe\">\n",
       "  <thead>\n",
       "    <tr style=\"text-align: right;\">\n",
       "      <th></th>\n",
       "      <th>age</th>\n",
       "      <th>spikes</th>\n",
       "      <th>weight</th>\n",
       "      <th>name</th>\n",
       "    </tr>\n",
       "    <tr>\n",
       "      <th>color</th>\n",
       "      <th></th>\n",
       "      <th></th>\n",
       "      <th></th>\n",
       "      <th></th>\n",
       "    </tr>\n",
       "  </thead>\n",
       "  <tbody>\n",
       "    <tr>\n",
       "      <th>Albino</th>\n",
       "      <td>8.0</td>\n",
       "      <td>4000</td>\n",
       "      <td>390.0</td>\n",
       "      <td>1</td>\n",
       "    </tr>\n",
       "    <tr>\n",
       "      <th>Black-White</th>\n",
       "      <td>10.0</td>\n",
       "      <td>6000</td>\n",
       "      <td>360.0</td>\n",
       "      <td>1</td>\n",
       "    </tr>\n",
       "    <tr>\n",
       "      <th>Brown</th>\n",
       "      <td>2.5</td>\n",
       "      <td>6500</td>\n",
       "      <td>385.0</td>\n",
       "      <td>2</td>\n",
       "    </tr>\n",
       "    <tr>\n",
       "      <th>Grey</th>\n",
       "      <td>2.0</td>\n",
       "      <td>3000</td>\n",
       "      <td>410.0</td>\n",
       "      <td>1</td>\n",
       "    </tr>\n",
       "  </tbody>\n",
       "</table>\n",
       "</div>"
      ],
      "text/plain": [
       "              age  spikes  weight  name\n",
       "color                                  \n",
       "Albino        8.0    4000   390.0     1\n",
       "Black-White  10.0    6000   360.0     1\n",
       "Brown         2.5    6500   385.0     2\n",
       "Grey          2.0    3000   410.0     1"
      ]
     },
     "execution_count": 266,
     "metadata": {},
     "output_type": "execute_result"
    }
   ],
   "source": [
    "# grouping by color and aggregating\n",
    "df.groupby('color').agg({\n",
    "    'age': 'mean',         # average age per color\n",
    "    'spikes': 'sum',       # total spikes per color\n",
    "    'weight': 'mean',      # average weight per color\n",
    "    'name': 'count'        # counting names per color\n",
    "})"
   ]
  },
  {
   "cell_type": "markdown",
   "id": "37d2b5ed-56fb-48bf-a467-ec82e4d0d185",
   "metadata": {},
   "source": [
    "## 7. conditions"
   ]
  },
  {
   "cell_type": "code",
   "execution_count": 268,
   "id": "29b5d178-704c-4afb-a3a0-47a3a922392c",
   "metadata": {},
   "outputs": [
    {
     "data": {
      "text/html": [
       "<div>\n",
       "<style scoped>\n",
       "    .dataframe tbody tr th:only-of-type {\n",
       "        vertical-align: middle;\n",
       "    }\n",
       "\n",
       "    .dataframe tbody tr th {\n",
       "        vertical-align: top;\n",
       "    }\n",
       "\n",
       "    .dataframe thead th {\n",
       "        text-align: right;\n",
       "    }\n",
       "</style>\n",
       "<table border=\"1\" class=\"dataframe\">\n",
       "  <thead>\n",
       "    <tr style=\"text-align: right;\">\n",
       "      <th></th>\n",
       "      <th>name</th>\n",
       "      <th>age</th>\n",
       "      <th>spikes</th>\n",
       "      <th>color</th>\n",
       "      <th>weight</th>\n",
       "      <th>friendly</th>\n",
       "      <th>ears</th>\n",
       "      <th>old</th>\n",
       "    </tr>\n",
       "  </thead>\n",
       "  <tbody>\n",
       "    <tr>\n",
       "      <th>1</th>\n",
       "      <td>Brownie</td>\n",
       "      <td>4</td>\n",
       "      <td>3500</td>\n",
       "      <td>Brown</td>\n",
       "      <td>420</td>\n",
       "      <td>True</td>\n",
       "      <td>small</td>\n",
       "      <td>False</td>\n",
       "    </tr>\n",
       "  </tbody>\n",
       "</table>\n",
       "</div>"
      ],
      "text/plain": [
       "      name  age  spikes  color  weight  friendly   ears    old\n",
       "1  Brownie    4    3500  Brown     420      True  small  False"
      ]
     },
     "execution_count": 268,
     "metadata": {},
     "output_type": "execute_result"
    }
   ],
   "source": [
    "# with conditions we can find things in the data\n",
    "df.loc[(df['age'] > 1) & (df['color'] =='Brown')]"
   ]
  },
  {
   "cell_type": "markdown",
   "id": "2939f7e7",
   "metadata": {},
   "source": [
    "## 8. handling of missing data"
   ]
  },
  {
   "cell_type": "code",
   "execution_count": 270,
   "id": "4cc736ae",
   "metadata": {},
   "outputs": [
    {
     "name": "stdout",
     "output_type": "stream",
     "text": [
      "<class 'pandas.core.frame.DataFrame'>\n",
      "RangeIndex: 5 entries, 0 to 4\n",
      "Data columns (total 8 columns):\n",
      " #   Column    Non-Null Count  Dtype \n",
      "---  ------    --------------  ----- \n",
      " 0   name      5 non-null      object\n",
      " 1   age       5 non-null      int64 \n",
      " 2   spikes    5 non-null      int64 \n",
      " 3   color     5 non-null      object\n",
      " 4   weight    5 non-null      int64 \n",
      " 5   friendly  5 non-null      bool  \n",
      " 6   ears      5 non-null      object\n",
      " 7   old       5 non-null      bool  \n",
      "dtypes: bool(2), int64(3), object(3)\n",
      "memory usage: 382.0+ bytes\n"
     ]
    }
   ],
   "source": [
    "# info shows non-null count and more\n",
    "df.info()"
   ]
  },
  {
   "cell_type": "code",
   "execution_count": 271,
   "id": "a23e2729-566e-4d9c-8490-a26915fe1938",
   "metadata": {},
   "outputs": [
    {
     "data": {
      "text/html": [
       "<div>\n",
       "<style scoped>\n",
       "    .dataframe tbody tr th:only-of-type {\n",
       "        vertical-align: middle;\n",
       "    }\n",
       "\n",
       "    .dataframe tbody tr th {\n",
       "        vertical-align: top;\n",
       "    }\n",
       "\n",
       "    .dataframe thead th {\n",
       "        text-align: right;\n",
       "    }\n",
       "</style>\n",
       "<table border=\"1\" class=\"dataframe\">\n",
       "  <thead>\n",
       "    <tr style=\"text-align: right;\">\n",
       "      <th></th>\n",
       "      <th>name</th>\n",
       "      <th>age</th>\n",
       "      <th>spikes</th>\n",
       "      <th>color</th>\n",
       "      <th>weight</th>\n",
       "      <th>friendly</th>\n",
       "      <th>ears</th>\n",
       "      <th>old</th>\n",
       "    </tr>\n",
       "  </thead>\n",
       "  <tbody>\n",
       "    <tr>\n",
       "      <th>0</th>\n",
       "      <td>False</td>\n",
       "      <td>False</td>\n",
       "      <td>False</td>\n",
       "      <td>False</td>\n",
       "      <td>False</td>\n",
       "      <td>False</td>\n",
       "      <td>False</td>\n",
       "      <td>False</td>\n",
       "    </tr>\n",
       "    <tr>\n",
       "      <th>1</th>\n",
       "      <td>False</td>\n",
       "      <td>False</td>\n",
       "      <td>False</td>\n",
       "      <td>False</td>\n",
       "      <td>False</td>\n",
       "      <td>False</td>\n",
       "      <td>False</td>\n",
       "      <td>False</td>\n",
       "    </tr>\n",
       "    <tr>\n",
       "      <th>2</th>\n",
       "      <td>False</td>\n",
       "      <td>False</td>\n",
       "      <td>False</td>\n",
       "      <td>False</td>\n",
       "      <td>False</td>\n",
       "      <td>False</td>\n",
       "      <td>False</td>\n",
       "      <td>False</td>\n",
       "    </tr>\n",
       "    <tr>\n",
       "      <th>3</th>\n",
       "      <td>False</td>\n",
       "      <td>False</td>\n",
       "      <td>False</td>\n",
       "      <td>False</td>\n",
       "      <td>False</td>\n",
       "      <td>False</td>\n",
       "      <td>False</td>\n",
       "      <td>False</td>\n",
       "    </tr>\n",
       "    <tr>\n",
       "      <th>4</th>\n",
       "      <td>False</td>\n",
       "      <td>False</td>\n",
       "      <td>False</td>\n",
       "      <td>False</td>\n",
       "      <td>False</td>\n",
       "      <td>False</td>\n",
       "      <td>False</td>\n",
       "      <td>False</td>\n",
       "    </tr>\n",
       "  </tbody>\n",
       "</table>\n",
       "</div>"
      ],
      "text/plain": [
       "    name    age  spikes  color  weight  friendly   ears    old\n",
       "0  False  False   False  False   False     False  False  False\n",
       "1  False  False   False  False   False     False  False  False\n",
       "2  False  False   False  False   False     False  False  False\n",
       "3  False  False   False  False   False     False  False  False\n",
       "4  False  False   False  False   False     False  False  False"
      ]
     },
     "execution_count": 271,
     "metadata": {},
     "output_type": "execute_result"
    }
   ],
   "source": [
    "# if there is NaN values it says True\n",
    "df.isna()"
   ]
  },
  {
   "cell_type": "code",
   "execution_count": 272,
   "id": "b19fc1cb-e1eb-4eb4-bbba-0dce486e9bd1",
   "metadata": {},
   "outputs": [
    {
     "data": {
      "text/html": [
       "<div>\n",
       "<style scoped>\n",
       "    .dataframe tbody tr th:only-of-type {\n",
       "        vertical-align: middle;\n",
       "    }\n",
       "\n",
       "    .dataframe tbody tr th {\n",
       "        vertical-align: top;\n",
       "    }\n",
       "\n",
       "    .dataframe thead th {\n",
       "        text-align: right;\n",
       "    }\n",
       "</style>\n",
       "<table border=\"1\" class=\"dataframe\">\n",
       "  <thead>\n",
       "    <tr style=\"text-align: right;\">\n",
       "      <th></th>\n",
       "      <th>name</th>\n",
       "      <th>age</th>\n",
       "      <th>spikes</th>\n",
       "      <th>color</th>\n",
       "      <th>weight</th>\n",
       "      <th>friendly</th>\n",
       "      <th>ears</th>\n",
       "      <th>old</th>\n",
       "    </tr>\n",
       "  </thead>\n",
       "  <tbody>\n",
       "    <tr>\n",
       "      <th>0</th>\n",
       "      <td>Peanut</td>\n",
       "      <td>1</td>\n",
       "      <td>3000</td>\n",
       "      <td>Brown</td>\n",
       "      <td>350</td>\n",
       "      <td>True</td>\n",
       "      <td>big</td>\n",
       "      <td>False</td>\n",
       "    </tr>\n",
       "    <tr>\n",
       "      <th>1</th>\n",
       "      <td>Brownie</td>\n",
       "      <td>4</td>\n",
       "      <td>3500</td>\n",
       "      <td>Brown</td>\n",
       "      <td>420</td>\n",
       "      <td>True</td>\n",
       "      <td>small</td>\n",
       "      <td>False</td>\n",
       "    </tr>\n",
       "    <tr>\n",
       "      <th>2</th>\n",
       "      <td>Tofu</td>\n",
       "      <td>8</td>\n",
       "      <td>4000</td>\n",
       "      <td>Albino</td>\n",
       "      <td>390</td>\n",
       "      <td>False</td>\n",
       "      <td>small</td>\n",
       "      <td>True</td>\n",
       "    </tr>\n",
       "    <tr>\n",
       "      <th>3</th>\n",
       "      <td>Fifi</td>\n",
       "      <td>10</td>\n",
       "      <td>6000</td>\n",
       "      <td>Black-White</td>\n",
       "      <td>360</td>\n",
       "      <td>True</td>\n",
       "      <td>big</td>\n",
       "      <td>True</td>\n",
       "    </tr>\n",
       "    <tr>\n",
       "      <th>4</th>\n",
       "      <td>Spike</td>\n",
       "      <td>2</td>\n",
       "      <td>3000</td>\n",
       "      <td>Grey</td>\n",
       "      <td>410</td>\n",
       "      <td>True</td>\n",
       "      <td>small</td>\n",
       "      <td>False</td>\n",
       "    </tr>\n",
       "  </tbody>\n",
       "</table>\n",
       "</div>"
      ],
      "text/plain": [
       "      name  age  spikes        color  weight  friendly   ears    old\n",
       "0   Peanut    1    3000        Brown     350      True    big  False\n",
       "1  Brownie    4    3500        Brown     420      True  small  False\n",
       "2     Tofu    8    4000       Albino     390     False  small   True\n",
       "3     Fifi   10    6000  Black-White     360      True    big   True\n",
       "4    Spike    2    3000         Grey     410      True  small  False"
      ]
     },
     "execution_count": 272,
     "metadata": {},
     "output_type": "execute_result"
    }
   ],
   "source": [
    "# drop all rows with NaN values\n",
    "df.dropna()"
   ]
  },
  {
   "cell_type": "code",
   "execution_count": 273,
   "id": "93aca954-2007-48bd-871a-274f8acd6c88",
   "metadata": {},
   "outputs": [
    {
     "name": "stdout",
     "output_type": "stream",
     "text": [
      "<class 'pandas.core.frame.DataFrame'>\n",
      "RangeIndex: 5 entries, 0 to 4\n",
      "Data columns (total 8 columns):\n",
      " #   Column    Non-Null Count  Dtype \n",
      "---  ------    --------------  ----- \n",
      " 0   name      5 non-null      object\n",
      " 1   age       5 non-null      int64 \n",
      " 2   spikes    5 non-null      int64 \n",
      " 3   color     5 non-null      object\n",
      " 4   weight    5 non-null      int64 \n",
      " 5   friendly  5 non-null      bool  \n",
      " 6   ears      5 non-null      object\n",
      " 7   old       5 non-null      bool  \n",
      "dtypes: bool(2), int64(3), object(3)\n",
      "memory usage: 382.0+ bytes\n"
     ]
    }
   ],
   "source": [
    "# if we dont want to drop those values we can put there datas mean value\n",
    "agemean = df.age.mean()\n",
    "agemean\n",
    "\n",
    "df['age'] = df['age'].fillna(agemean)\n",
    "df.info()"
   ]
  },
  {
   "cell_type": "code",
   "execution_count": 300,
   "id": "87b18372-3a69-45a4-af36-9c72605be7fb",
   "metadata": {},
   "outputs": [
    {
     "data": {
      "text/html": [
       "<div>\n",
       "<style scoped>\n",
       "    .dataframe tbody tr th:only-of-type {\n",
       "        vertical-align: middle;\n",
       "    }\n",
       "\n",
       "    .dataframe tbody tr th {\n",
       "        vertical-align: top;\n",
       "    }\n",
       "\n",
       "    .dataframe thead th {\n",
       "        text-align: right;\n",
       "    }\n",
       "</style>\n",
       "<table border=\"1\" class=\"dataframe\">\n",
       "  <thead>\n",
       "    <tr style=\"text-align: right;\">\n",
       "      <th></th>\n",
       "      <th>0</th>\n",
       "      <th>1</th>\n",
       "      <th>2</th>\n",
       "      <th>3</th>\n",
       "      <th>4</th>\n",
       "    </tr>\n",
       "  </thead>\n",
       "  <tbody>\n",
       "    <tr>\n",
       "      <th>name</th>\n",
       "      <td>Peanut</td>\n",
       "      <td>Brownie</td>\n",
       "      <td>Tofu</td>\n",
       "      <td>Fifi</td>\n",
       "      <td>Spike</td>\n",
       "    </tr>\n",
       "    <tr>\n",
       "      <th>age</th>\n",
       "      <td>1</td>\n",
       "      <td>4</td>\n",
       "      <td>8</td>\n",
       "      <td>10</td>\n",
       "      <td>2</td>\n",
       "    </tr>\n",
       "    <tr>\n",
       "      <th>spikes</th>\n",
       "      <td>3000</td>\n",
       "      <td>3500</td>\n",
       "      <td>4000</td>\n",
       "      <td>6000</td>\n",
       "      <td>3000</td>\n",
       "    </tr>\n",
       "    <tr>\n",
       "      <th>color</th>\n",
       "      <td>Brown</td>\n",
       "      <td>Brown</td>\n",
       "      <td>Albino</td>\n",
       "      <td>Black-White</td>\n",
       "      <td>Grey</td>\n",
       "    </tr>\n",
       "    <tr>\n",
       "      <th>weight</th>\n",
       "      <td>350</td>\n",
       "      <td>420</td>\n",
       "      <td>390</td>\n",
       "      <td>360</td>\n",
       "      <td>410</td>\n",
       "    </tr>\n",
       "    <tr>\n",
       "      <th>friendly</th>\n",
       "      <td>True</td>\n",
       "      <td>True</td>\n",
       "      <td>False</td>\n",
       "      <td>True</td>\n",
       "      <td>True</td>\n",
       "    </tr>\n",
       "    <tr>\n",
       "      <th>ears</th>\n",
       "      <td>big</td>\n",
       "      <td>small</td>\n",
       "      <td>small</td>\n",
       "      <td>big</td>\n",
       "      <td>small</td>\n",
       "    </tr>\n",
       "    <tr>\n",
       "      <th>old</th>\n",
       "      <td>False</td>\n",
       "      <td>False</td>\n",
       "      <td>True</td>\n",
       "      <td>True</td>\n",
       "      <td>False</td>\n",
       "    </tr>\n",
       "  </tbody>\n",
       "</table>\n",
       "</div>"
      ],
      "text/plain": [
       "               0        1       2            3      4\n",
       "name      Peanut  Brownie    Tofu         Fifi  Spike\n",
       "age            1        4       8           10      2\n",
       "spikes      3000     3500    4000         6000   3000\n",
       "color      Brown    Brown  Albino  Black-White   Grey\n",
       "weight       350      420     390          360    410\n",
       "friendly    True     True   False         True   True\n",
       "ears         big    small   small          big  small\n",
       "old        False    False    True         True  False"
      ]
     },
     "execution_count": 300,
     "metadata": {},
     "output_type": "execute_result"
    }
   ],
   "source": [
    "# finally you can transpose your dataframe\n",
    "df.head().transpose()"
   ]
  },
  {
   "cell_type": "markdown",
   "id": "2b23cbc0",
   "metadata": {},
   "source": [
    "## 9. summary"
   ]
  },
  {
   "cell_type": "markdown",
   "id": "ca95cfbf",
   "metadata": {},
   "source": [
    "In this notebook, we have covered the basics of the pandas library:  \n",
    "- creating DataFrame objects \n",
    "- reading and saving data \n",
    "- basic operations \n",
    "- data manipulation \n",
    "- as well as grouping and aggregation. "
   ]
  },
  {
   "cell_type": "code",
   "execution_count": null,
   "id": "1f25d10c-e9bd-4a7d-94e1-b12c20fa3f5e",
   "metadata": {},
   "outputs": [],
   "source": []
  }
 ],
 "metadata": {
  "kernelspec": {
   "display_name": "Python 3 (ipykernel)",
   "language": "python",
   "name": "python3"
  },
  "language_info": {
   "codemirror_mode": {
    "name": "ipython",
    "version": 3
   },
   "file_extension": ".py",
   "mimetype": "text/x-python",
   "name": "python",
   "nbconvert_exporter": "python",
   "pygments_lexer": "ipython3",
   "version": "3.11.5"
  }
 },
 "nbformat": 4,
 "nbformat_minor": 5
}
