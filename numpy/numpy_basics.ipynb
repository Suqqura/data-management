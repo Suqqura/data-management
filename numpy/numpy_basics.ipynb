{
 "cells": [
  {
   "cell_type": "markdown",
   "metadata": {},
   "source": [
    "# Numpy Basics"
   ]
  },
  {
   "cell_type": "markdown",
   "metadata": {},
   "source": [
    "\n",
    "\n",
    "1. Numpy array\n",
    "    - 1-dimensional array\n",
    "    - Multidimensional array\n",
    "    - Convert Python list to Numpy array\n",
    "2. Slicing arrays\n",
    "    - 1D array\n",
    "    - 2D array\n",
    "3. Numpy functions\n",
    "    - Statistical functions\n",
    "    - Transpose\n",
    "    - Indexes of numpy array\n",
    "    - Stacking arrays\n",
    "    - Concatenate arrays\n",
    "    - Copy and View\n",
    "    - Universal functions"
   ]
  },
  {
   "cell_type": "markdown",
   "metadata": {},
   "source": [
    "import numpy"
   ]
  },
  {
   "cell_type": "code",
   "execution_count": 3,
   "metadata": {},
   "outputs": [],
   "source": [
    "import numpy as np"
   ]
  },
  {
   "cell_type": "markdown",
   "metadata": {},
   "source": [
    "#### 1. Numpy array"
   ]
  },
  {
   "cell_type": "markdown",
   "metadata": {},
   "source": [
    "##### 1-dimensional array"
   ]
  },
  {
   "cell_type": "code",
   "execution_count": 6,
   "metadata": {},
   "outputs": [
    {
     "data": {
      "text/plain": [
       "array([1, 2, 3, 4, 5, 6])"
      ]
     },
     "execution_count": 6,
     "metadata": {},
     "output_type": "execute_result"
    }
   ],
   "source": [
    "# Create 1-dimensional ndarray\n",
    "np1d = np.array([1,2,3,4,5,6])\n",
    "np1d"
   ]
  },
  {
   "cell_type": "code",
   "execution_count": 7,
   "metadata": {},
   "outputs": [
    {
     "data": {
      "text/plain": [
       "(6,)"
      ]
     },
     "execution_count": 7,
     "metadata": {},
     "output_type": "execute_result"
    }
   ],
   "source": [
    "# check shape of the array\n",
    "np1d.shape"
   ]
  },
  {
   "cell_type": "code",
   "execution_count": 14,
   "metadata": {},
   "outputs": [
    {
     "data": {
      "text/plain": [
       "array([0, 1, 2, 3, 4, 5])"
      ]
     },
     "execution_count": 14,
     "metadata": {},
     "output_type": "execute_result"
    }
   ],
   "source": [
    "# 'arange' can be used to create array\n",
    "np1d = np.arange(6)\n",
    "np1d"
   ]
  },
  {
   "cell_type": "code",
   "execution_count": 15,
   "metadata": {},
   "outputs": [
    {
     "data": {
      "text/plain": [
       "array([ 0,  6, 12, 18, 24, 30, 36, 42, 48, 54])"
      ]
     },
     "execution_count": 15,
     "metadata": {},
     "output_type": "execute_result"
    }
   ],
   "source": [
    "# 'arange' contain 3 parameters: start value, end value, step)\n",
    "np1d = np.arange(0, 60, 6)\n",
    "np1d"
   ]
  },
  {
   "cell_type": "code",
   "execution_count": 104,
   "metadata": {},
   "outputs": [
    {
     "data": {
      "text/plain": [
       "array([1. , 1.5, 2. , 2.5, 3. , 3.5, 4. , 4.5, 5. , 5.5, 6. ])"
      ]
     },
     "execution_count": 104,
     "metadata": {},
     "output_type": "execute_result"
    }
   ],
   "source": [
    "# 'linspace' contain 3 parameters: start, end, number of elements\n",
    "np1d = np.linspace(1, 6, 11)\n",
    "np1d"
   ]
  },
  {
   "cell_type": "code",
   "execution_count": 16,
   "metadata": {},
   "outputs": [
    {
     "data": {
      "text/plain": [
       "array([0., 0., 0., 0., 0., 0.])"
      ]
     },
     "execution_count": 16,
     "metadata": {},
     "output_type": "execute_result"
    }
   ],
   "source": [
    "# Create arrays with value 0\n",
    "np1d = np.zeros(6)\n",
    "np1d"
   ]
  },
  {
   "cell_type": "markdown",
   "metadata": {},
   "source": [
    "##### Multidimensional array"
   ]
  },
  {
   "cell_type": "code",
   "execution_count": 17,
   "metadata": {},
   "outputs": [
    {
     "data": {
      "text/plain": [
       "array([[1, 2, 3],\n",
       "       [4, 5, 6]])"
      ]
     },
     "execution_count": 17,
     "metadata": {},
     "output_type": "execute_result"
    }
   ],
   "source": [
    "# 2-dimensional array\n",
    "np2d = np.array([[1,2,3],[4,5,6]])\n",
    "np2d"
   ]
  },
  {
   "cell_type": "code",
   "execution_count": 110,
   "metadata": {},
   "outputs": [
    {
     "data": {
      "text/plain": [
       "array([[0., 0., 0., 0., 0.],\n",
       "       [0., 0., 0., 0., 0.],\n",
       "       [0., 0., 0., 0., 0.]])"
      ]
     },
     "execution_count": 110,
     "metadata": {},
     "output_type": "execute_result"
    }
   ],
   "source": [
    "# 2-dimensional, all zeroes\n",
    "np2d = np.zeros((3, 5))\n",
    "np2d"
   ]
  },
  {
   "cell_type": "code",
   "execution_count": 117,
   "metadata": {},
   "outputs": [
    {
     "data": {
      "text/plain": [
       "array([[1., 0., 0., 0., 0.],\n",
       "       [0., 1., 0., 0., 0.],\n",
       "       [0., 0., 1., 0., 0.]])"
      ]
     },
     "execution_count": 117,
     "metadata": {},
     "output_type": "execute_result"
    }
   ],
   "source": [
    "# 'eye' defines a 2D identity matrix\n",
    "np3d = np.eye(3, 5)\n",
    "np3d"
   ]
  },
  {
   "cell_type": "code",
   "execution_count": 112,
   "metadata": {},
   "outputs": [
    {
     "data": {
      "text/plain": [
       "array([[[1, 2],\n",
       "        [3, 4]],\n",
       "\n",
       "       [[5, 6],\n",
       "        [7, 8]]])"
      ]
     },
     "execution_count": 112,
     "metadata": {},
     "output_type": "execute_result"
    }
   ],
   "source": [
    "# 3-dimensional array\n",
    "np3d = np.array([[[1, 2], [3, 4]], [[5, 6], [7, 8]]])\n",
    "np3d"
   ]
  },
  {
   "cell_type": "code",
   "execution_count": 119,
   "metadata": {},
   "outputs": [
    {
     "data": {
      "text/plain": [
       "array([[1., 1., 1.],\n",
       "       [1., 1., 1.]])"
      ]
     },
     "execution_count": 119,
     "metadata": {},
     "output_type": "execute_result"
    }
   ],
   "source": [
    "np3d = np.ones((2, 3))\n",
    "np3d"
   ]
  },
  {
   "cell_type": "markdown",
   "metadata": {},
   "source": [
    "##### Convert Python list to Numpy array"
   ]
  },
  {
   "cell_type": "code",
   "execution_count": 30,
   "metadata": {},
   "outputs": [
    {
     "data": {
      "text/plain": [
       "[1, 2, 3, 4, 5, 6]"
      ]
     },
     "execution_count": 30,
     "metadata": {},
     "output_type": "execute_result"
    }
   ],
   "source": [
    "# Create list with Python\n",
    "list1 = [1,2,3,4,5,6]\n",
    "list1"
   ]
  },
  {
   "cell_type": "code",
   "execution_count": 31,
   "metadata": {},
   "outputs": [
    {
     "data": {
      "text/plain": [
       "1"
      ]
     },
     "execution_count": 31,
     "metadata": {},
     "output_type": "execute_result"
    }
   ],
   "source": [
    "# 1st item in the list\n",
    "list1[0]"
   ]
  },
  {
   "cell_type": "code",
   "execution_count": 32,
   "metadata": {},
   "outputs": [
    {
     "name": "stdout",
     "output_type": "stream",
     "text": [
      "Python list: [1, 2, 3, 4, 5, 6]\n",
      "Numpy array: [1 2 3 4 5 6]\n"
     ]
    }
   ],
   "source": [
    "# covert previously created list1\n",
    "print('Python list:', list1)\n",
    "np1 = np.array(list1)\n",
    "print('Numpy array:', np1)"
   ]
  },
  {
   "cell_type": "code",
   "execution_count": 33,
   "metadata": {},
   "outputs": [
    {
     "name": "stdout",
     "output_type": "stream",
     "text": [
      "Numpy array, 1st: 1\n",
      "Numpy array, last: 6\n"
     ]
    }
   ],
   "source": [
    "# print element in numpy array\n",
    "print('Numpy array, 1st:', np1[0])\n",
    "\n",
    "# Note the special case: index -1 points to last item \n",
    "print('Numpy array, last:', np1[-1])"
   ]
  },
  {
   "cell_type": "markdown",
   "metadata": {},
   "source": [
    "### 2. Slicing arrays"
   ]
  },
  {
   "cell_type": "markdown",
   "metadata": {},
   "source": [
    "#### 1D array"
   ]
  },
  {
   "cell_type": "code",
   "execution_count": 39,
   "metadata": {},
   "outputs": [
    {
     "data": {
      "text/plain": [
       "array([2, 3, 4, 5, 6])"
      ]
     },
     "execution_count": 39,
     "metadata": {},
     "output_type": "execute_result"
    }
   ],
   "source": [
    "# Create 1-dimensional ndarray\n",
    "np1 = np.array([1,2,3,4,5,6,7,8,9,10])\n",
    "\n",
    "# print slice\n",
    "np1[1:6]"
   ]
  },
  {
   "cell_type": "code",
   "execution_count": 35,
   "metadata": {},
   "outputs": [
    {
     "data": {
      "text/plain": [
       "array([ 6,  7,  8,  9, 10])"
      ]
     },
     "execution_count": 35,
     "metadata": {},
     "output_type": "execute_result"
    }
   ],
   "source": [
    "# print all values starting from specific location\n",
    "np1[5:]"
   ]
  },
  {
   "cell_type": "code",
   "execution_count": 38,
   "metadata": {},
   "outputs": [
    {
     "data": {
      "text/plain": [
       "array([6, 7, 8, 9])"
      ]
     },
     "execution_count": 38,
     "metadata": {},
     "output_type": "execute_result"
    }
   ],
   "source": [
    "# print negative slices\n",
    "np1[-5:-1]"
   ]
  },
  {
   "cell_type": "code",
   "execution_count": 37,
   "metadata": {},
   "outputs": [
    {
     "name": "stdout",
     "output_type": "stream",
     "text": [
      "[2 3 4 5 6]\n",
      "[2 4 6]\n",
      "[1 3 5 7 9]\n"
     ]
    }
   ],
   "source": [
    "# slices in steps\n",
    "print(np1[1:6])\n",
    "print(np1[1:6:2]) # some data in steps of 2\n",
    "print(np1[::2]) # all data in steps of 2"
   ]
  },
  {
   "cell_type": "markdown",
   "metadata": {},
   "source": [
    "#### 2D array"
   ]
  },
  {
   "cell_type": "code",
   "execution_count": 40,
   "metadata": {},
   "outputs": [
    {
     "data": {
      "text/plain": [
       "array([[ 1,  2,  3,  4,  5],\n",
       "       [ 6,  7,  8,  9, 10]])"
      ]
     },
     "execution_count": 40,
     "metadata": {},
     "output_type": "execute_result"
    }
   ],
   "source": [
    "np2 = np.array([[1,2,3,4,5],[6,7,8,9,10]])\n",
    "np2"
   ]
  },
  {
   "cell_type": "code",
   "execution_count": 52,
   "metadata": {},
   "outputs": [
    {
     "name": "stdout",
     "output_type": "stream",
     "text": [
      "1\n",
      "6\n",
      "5\n",
      "10\n"
     ]
    }
   ],
   "source": [
    "# print based on index in the array\n",
    "#fist\n",
    "print(np2[0,0])\n",
    "print(np2[1,0])\n",
    "\n",
    "#last\n",
    "print(np2[0,-1])\n",
    "print(np2[-1,-1])\n"
   ]
  },
  {
   "cell_type": "code",
   "execution_count": 45,
   "metadata": {},
   "outputs": [
    {
     "name": "stdout",
     "output_type": "stream",
     "text": [
      "[[2 3 4]]\n"
     ]
    }
   ],
   "source": [
    "# slice 2D array\n",
    "# show in first row values in columns with indexes 1 - 3\n",
    "print(np2[0:1,1:4])"
   ]
  },
  {
   "cell_type": "code",
   "execution_count": 46,
   "metadata": {},
   "outputs": [
    {
     "name": "stdout",
     "output_type": "stream",
     "text": [
      "[1 2 3 4 5]\n"
     ]
    }
   ],
   "source": [
    "# show data in row with index 1\n",
    "# show the first row in the array\n",
    "print(np2[0,:])"
   ]
  },
  {
   "cell_type": "code",
   "execution_count": 47,
   "metadata": {},
   "outputs": [
    {
     "name": "stdout",
     "output_type": "stream",
     "text": [
      "[1 2 3 4 5]\n"
     ]
    }
   ],
   "source": [
    "# Note that if all columns also option to print this way\n",
    "print(np2[0,])"
   ]
  },
  {
   "cell_type": "code",
   "execution_count": 48,
   "metadata": {},
   "outputs": [
    {
     "name": "stdout",
     "output_type": "stream",
     "text": [
      "[ 5 10]\n"
     ]
    }
   ],
   "source": [
    "# show the last column in the array\n",
    "print(np2[:,-1])"
   ]
  },
  {
   "cell_type": "code",
   "execution_count": 49,
   "metadata": {},
   "outputs": [
    {
     "data": {
      "text/plain": [
       "array([ 5, 10])"
      ]
     },
     "execution_count": 49,
     "metadata": {},
     "output_type": "execute_result"
    }
   ],
   "source": [
    "# show the previous result as array\n",
    "a = np2[:, -1]\n",
    "a"
   ]
  },
  {
   "cell_type": "markdown",
   "metadata": {},
   "source": [
    "### 3. Numpy functions\n"
   ]
  },
  {
   "cell_type": "markdown",
   "metadata": {},
   "source": [
    "#### Statistical functions\n"
   ]
  },
  {
   "cell_type": "code",
   "execution_count": 66,
   "metadata": {},
   "outputs": [
    {
     "name": "stdout",
     "output_type": "stream",
     "text": [
      "array np1: [ 1  2  3  4  5  6  7  8  9 10]\n",
      "mean: 5.5\n",
      "standard deviation: 2.8722813232690143\n",
      "median: 5.5\n"
     ]
    }
   ],
   "source": [
    "# array\n",
    "print('array np1:', np1)\n",
    "\n",
    "# print mean\n",
    "print('mean:', np.mean(np1))\n",
    "\n",
    "# print standard deviation, std\n",
    "print('standard deviation:', np.std(np1))\n",
    "\n",
    "# print median\n",
    "print('median:', np.median(np1))"
   ]
  },
  {
   "cell_type": "markdown",
   "metadata": {},
   "source": [
    "#### Transpose"
   ]
  },
  {
   "cell_type": "code",
   "execution_count": 72,
   "metadata": {},
   "outputs": [
    {
     "name": "stdout",
     "output_type": "stream",
     "text": [
      "np2: \n",
      " [[ 1  2  3  4  5]\n",
      " [ 6  7  8  9 10]]\n"
     ]
    }
   ],
   "source": [
    "# before transpose np2\n",
    "print('np2: \\n', np2)"
   ]
  },
  {
   "cell_type": "code",
   "execution_count": 73,
   "metadata": {},
   "outputs": [
    {
     "name": "stdout",
     "output_type": "stream",
     "text": [
      "Transposed np2: \n",
      " [[ 1  6]\n",
      " [ 2  7]\n",
      " [ 3  8]\n",
      " [ 4  9]\n",
      " [ 5 10]]\n"
     ]
    }
   ],
   "source": [
    "# transpose np2\n",
    "np2t = np.transpose(np2)\n",
    "print('Transposed np2: \\n',  np2t)"
   ]
  },
  {
   "cell_type": "markdown",
   "metadata": {},
   "source": [
    "#### Indexes of numpy array"
   ]
  },
  {
   "cell_type": "code",
   "execution_count": 74,
   "metadata": {},
   "outputs": [
    {
     "name": "stdout",
     "output_type": "stream",
     "text": [
      "np3: \n",
      " [0.74094604 0.55813275 0.48194074 0.38111561 0.93675603 0.31984083\n",
      " 0.49319887 0.78000339 0.71158284 0.64072761]\n"
     ]
    }
   ],
   "source": [
    "# Create 1-dimensional Numpy arrays with random values.\n",
    "np3 = np.random.rand(10)\n",
    "print ('np3: \\n', np3)"
   ]
  },
  {
   "cell_type": "code",
   "execution_count": 75,
   "metadata": {},
   "outputs": [
    {
     "name": "stdout",
     "output_type": "stream",
     "text": [
      "Index of smallest value is 5 with value: 0.3198408281444872\n",
      "Index of largest value is 4 with value: 0.9367560273753129\n"
     ]
    }
   ],
   "source": [
    "# find smallest and largest\n",
    "np3min = np.argmin(np3)\n",
    "np3max = np.argmax(np3)\n",
    "print ('Index of smallest value is', np3min, 'with value:', np3[np3min])\n",
    "print ('Index of largest value is', np3max, 'with value:', np3[np3max])"
   ]
  },
  {
   "cell_type": "markdown",
   "metadata": {},
   "source": [
    "#### Stacking arrays"
   ]
  },
  {
   "cell_type": "code",
   "execution_count": 80,
   "metadata": {},
   "outputs": [
    {
     "name": "stdout",
     "output_type": "stream",
     "text": [
      "np4: [1 2 3 4]\n",
      "np5: [5 6 7 8]\n"
     ]
    }
   ],
   "source": [
    "# Create 2-dimensional Numpy arrays\n",
    "np4 = np.array([1,2,3,4])\n",
    "np5 = np.array([5,6,7,8])\n",
    "print('np4:', np4)\n",
    "print('np5:', np5)"
   ]
  },
  {
   "cell_type": "code",
   "execution_count": 81,
   "metadata": {},
   "outputs": [
    {
     "name": "stdout",
     "output_type": "stream",
     "text": [
      "np4 and np5 stacked: \n",
      " [[1 2 3 4]\n",
      " [5 6 7 8]]\n"
     ]
    }
   ],
   "source": [
    "# stack the arrays\n",
    "np4_5 = np.stack((np4, np5))\n",
    "print ('np4 and np5 stacked: \\n', np4_5)"
   ]
  },
  {
   "cell_type": "code",
   "execution_count": 82,
   "metadata": {},
   "outputs": [
    {
     "name": "stdout",
     "output_type": "stream",
     "text": [
      "np4 and np5 stacked horizontally: \n",
      " [1 2 3 4 5 6 7 8]\n"
     ]
    }
   ],
   "source": [
    "# stack the arrays horizontally\n",
    "np4_5h = np.hstack((np4, np5))\n",
    "print ('np4 and np5 stacked horizontally: \\n', np4_5h)"
   ]
  },
  {
   "cell_type": "code",
   "execution_count": 83,
   "metadata": {},
   "outputs": [
    {
     "name": "stdout",
     "output_type": "stream",
     "text": [
      "np4 and np5 stacked vertically: \n",
      " [[1 2 3 4]\n",
      " [5 6 7 8]]\n"
     ]
    }
   ],
   "source": [
    "# Stack vertically same as stack\n",
    "np4_5v = np.vstack((np4, np5))\n",
    "print ('np4 and np5 stacked vertically: \\n', np4_5v)"
   ]
  },
  {
   "cell_type": "markdown",
   "metadata": {},
   "source": [
    "#### Concatenate arrays"
   ]
  },
  {
   "cell_type": "code",
   "execution_count": 84,
   "metadata": {},
   "outputs": [
    {
     "name": "stdout",
     "output_type": "stream",
     "text": [
      "np6: \n",
      " [[0.91216426 0.56181645 0.67773607 0.26670934 0.38655873]\n",
      " [0.02625671 0.68179321 0.48557899 0.15354953 0.26885428]]\n",
      "np7: \n",
      " [[0.59257483 0.47724489 0.06616991 0.4585557  0.59745883]\n",
      " [0.06061358 0.34043176 0.81851215 0.18619035 0.15344223]]\n"
     ]
    }
   ],
   "source": [
    "# Create 2-dimensional Numpy arrays with random values.\n",
    "np6 = np.random.rand(2,5)\n",
    "print ('np6: \\n', np6)\n",
    "# Create 2-dimensional Numpy arrays with random values.\n",
    "np7 = np.random.rand(2,5)\n",
    "print ('np7: \\n', np7)"
   ]
  },
  {
   "cell_type": "code",
   "execution_count": 123,
   "metadata": {},
   "outputs": [
    {
     "name": "stdout",
     "output_type": "stream",
     "text": [
      "[[0.9122 0.5618 0.6777 0.2667 0.3866]\n",
      " [0.0263 0.6818 0.4856 0.1536 0.2688]]\n",
      "[[0.59 0.48 0.07 0.46 0.6 ]\n",
      " [0.06 0.34 0.82 0.19 0.15]]\n"
     ]
    }
   ],
   "source": [
    "# round\n",
    "np6 = np.round(np6, 4)\n",
    "np7 = np.round(np7, 2)\n",
    "print(np6)\n",
    "print(np7)"
   ]
  },
  {
   "cell_type": "code",
   "execution_count": 124,
   "metadata": {},
   "outputs": [
    {
     "data": {
      "text/plain": [
       "array([[0.9122, 0.5618, 0.6777, 0.2667, 0.3866],\n",
       "       [0.0263, 0.6818, 0.4856, 0.1536, 0.2688],\n",
       "       [0.59  , 0.48  , 0.07  , 0.46  , 0.6   ],\n",
       "       [0.06  , 0.34  , 0.82  , 0.19  , 0.15  ]])"
      ]
     },
     "execution_count": 124,
     "metadata": {},
     "output_type": "execute_result"
    }
   ],
   "source": [
    "np.concatenate((np6, np7), axis=0)"
   ]
  },
  {
   "cell_type": "code",
   "execution_count": 125,
   "metadata": {},
   "outputs": [
    {
     "data": {
      "text/plain": [
       "array([[0.9122, 0.5618, 0.6777, 0.2667, 0.3866, 0.59  , 0.48  , 0.07  ,\n",
       "        0.46  , 0.6   ],\n",
       "       [0.0263, 0.6818, 0.4856, 0.1536, 0.2688, 0.06  , 0.34  , 0.82  ,\n",
       "        0.19  , 0.15  ]])"
      ]
     },
     "execution_count": 125,
     "metadata": {},
     "output_type": "execute_result"
    }
   ],
   "source": [
    "np.concatenate((np6, np7), axis=1)"
   ]
  },
  {
   "cell_type": "markdown",
   "metadata": {},
   "source": [
    "#### Copy and View"
   ]
  },
  {
   "cell_type": "code",
   "execution_count": 87,
   "metadata": {},
   "outputs": [
    {
     "name": "stdout",
     "output_type": "stream",
     "text": [
      "[ 0  5 10 15 20 25 30 35 40 45 50 55 60 65 70 75 80 85 90 95]\n"
     ]
    }
   ],
   "source": [
    "# create array with 'arange'\n",
    "np8 = np.arange(0, 100, 5)\n",
    "print(np8)"
   ]
  },
  {
   "cell_type": "code",
   "execution_count": 88,
   "metadata": {},
   "outputs": [
    {
     "data": {
      "text/plain": [
       "array([ 0,  5, 10, 15, 20, 25, 30, 35, 40, 45, 50, 55, 60, 65, 70, 75, 80,\n",
       "       85, 90, 95])"
      ]
     },
     "execution_count": 88,
     "metadata": {},
     "output_type": "execute_result"
    }
   ],
   "source": [
    "# make a copy\n",
    "np9 = np8.copy()\n",
    "np9"
   ]
  },
  {
   "cell_type": "code",
   "execution_count": 89,
   "metadata": {},
   "outputs": [
    {
     "data": {
      "text/plain": [
       "array([ 0,  5, 10, 15, 20, 25, 30, 35, 40, 45, 50, 55, 60, 65, 70, 75, 80,\n",
       "       85, 90, 95])"
      ]
     },
     "execution_count": 89,
     "metadata": {},
     "output_type": "execute_result"
    }
   ],
   "source": [
    "# use view instead\n",
    "np10 = np8.view()\n",
    "np10"
   ]
  },
  {
   "cell_type": "code",
   "execution_count": 90,
   "metadata": {},
   "outputs": [
    {
     "data": {
      "text/plain": [
       "array([100,   5,  10,  15,  20,  25,  30,  35,  40,  45,  50,  55,  60,\n",
       "        65,  70,  75,  80,  85,  90,  95])"
      ]
     },
     "execution_count": 90,
     "metadata": {},
     "output_type": "execute_result"
    }
   ],
   "source": [
    "# change value in original array (np8)\n",
    "np8[0] = 100\n",
    "np8"
   ]
  },
  {
   "cell_type": "code",
   "execution_count": 91,
   "metadata": {},
   "outputs": [
    {
     "name": "stdout",
     "output_type": "stream",
     "text": [
      "copy of np8:  [ 0  5 10 15 20 25 30 35 40 45 50 55 60 65 70 75 80 85 90 95]\n",
      "view of np8:  [100   5  10  15  20  25  30  35  40  45  50  55  60  65  70  75  80  85\n",
      "  90  95]\n"
     ]
    }
   ],
   "source": [
    "# check values in the copy and view\n",
    "print ('copy of np8: ', np9)\n",
    "print ('view of np8: ', np10)"
   ]
  },
  {
   "cell_type": "markdown",
   "metadata": {},
   "source": [
    "#### Universal functions"
   ]
  },
  {
   "cell_type": "code",
   "execution_count": 92,
   "metadata": {},
   "outputs": [
    {
     "name": "stdout",
     "output_type": "stream",
     "text": [
      "[ 1  2  3  4  5  6  7  8  9 10]\n",
      "[1.         1.41421356 1.73205081 2.         2.23606798 2.44948974\n",
      " 2.64575131 2.82842712 3.         3.16227766]\n"
     ]
    }
   ],
   "source": [
    "# square root\n",
    "print(np1)\n",
    "print(np.sqrt(np1))"
   ]
  },
  {
   "cell_type": "code",
   "execution_count": 93,
   "metadata": {},
   "outputs": [
    {
     "name": "stdout",
     "output_type": "stream",
     "text": [
      "[5 3 2 0 2 5 7 9]\n"
     ]
    }
   ],
   "source": [
    "# Absolute values  \n",
    "np3 = np.array([-5,-3, -2, 0, 2, 5,7,9])\n",
    "print(np.absolute(np3))"
   ]
  },
  {
   "cell_type": "code",
   "execution_count": 94,
   "metadata": {},
   "outputs": [
    {
     "name": "stdout",
     "output_type": "stream",
     "text": [
      "[6.73794700e-03 4.97870684e-02 1.35335283e-01 1.00000000e+00\n",
      " 7.38905610e+00 1.48413159e+02 1.09663316e+03 8.10308393e+03]\n"
     ]
    }
   ],
   "source": [
    "# Exponent\n",
    "print(np.exp(np3))"
   ]
  },
  {
   "cell_type": "code",
   "execution_count": 95,
   "metadata": {},
   "outputs": [
    {
     "name": "stdout",
     "output_type": "stream",
     "text": [
      "min: -5\n",
      "max: 9\n"
     ]
    }
   ],
   "source": [
    "# min & max\n",
    "print('min:', np.min(np3))\n",
    "print('max:', np.max(np3))"
   ]
  },
  {
   "cell_type": "markdown",
   "metadata": {},
   "source": [
    "numpy basics 1.0.1  \n",
    "Henna"
   ]
  }
 ],
 "metadata": {
  "kernelspec": {
   "display_name": "Python 3",
   "language": "python",
   "name": "python3"
  },
  "language_info": {
   "codemirror_mode": {
    "name": "ipython",
    "version": 3
   },
   "file_extension": ".py",
   "mimetype": "text/x-python",
   "name": "python",
   "nbconvert_exporter": "python",
   "pygments_lexer": "ipython3",
   "version": "3.12.4"
  }
 },
 "nbformat": 4,
 "nbformat_minor": 2
}
